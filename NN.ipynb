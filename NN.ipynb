{
 "cells": [
  {
   "cell_type": "code",
   "execution_count": 3,
   "id": "a34e1ddb",
   "metadata": {},
   "outputs": [
    {
     "name": "stderr",
     "output_type": "stream",
     "text": [
      "Warning message in install.packages(\"e1071\"):\n",
      "“installation of package ‘e1071’ had non-zero exit status”\n",
      "Updating HTML index of packages in '.Library'\n",
      "\n",
      "Making 'packages.html' ...\n",
      " done\n",
      "\n",
      "Updating HTML index of packages in '.Library'\n",
      "\n",
      "Making 'packages.html' ...\n",
      " done\n",
      "\n"
     ]
    },
    {
     "ename": "ERROR",
     "evalue": "Error in install_tensorflow(method = c(\"auto\", \"virtualenv\", \"conda\"), : could not find function \"install_tensorflow\"\n",
     "output_type": "error",
     "traceback": [
      "Error in install_tensorflow(method = c(\"auto\", \"virtualenv\", \"conda\"), : could not find function \"install_tensorflow\"\nTraceback:\n"
     ]
    }
   ],
   "source": [
    "source('functions.R')\n",
    "\n",
    "DATASET_FILENAME = './combined.csv'\n",
    "OUTPUT_FIELD = \"satisfactionv2\"\n",
    "\n",
    "MYLIBRARIES<-c(\"outliers\",\n",
    "               \"corrplot\",\n",
    "               \"formattable\",\n",
    "               \"stats\",\n",
    "               \"caret\",\n",
    "               \"PerformanceAnalytics\",\n",
    "               \"stringr\",\n",
    "               \"partykit\",\n",
    "               \"C50\",\n",
    "               \"randomForest\",\n",
    "               \"keras\",\n",
    "               \"h2o\",\n",
    "               \"mlbench\",\n",
    "                \"neuralnet\")\n",
    "library(pacman)\n",
    "pacman::p_load(char=MYLIBRARIES,install=TRUE,character.only=TRUE)\n",
    "\n",
    "install.packages('e1071')\n",
    "install.packages(c(\"keras\",\"tensorflow\"))\n",
    "\n",
    "\n",
    "\n",
    "install_tensorflow( \n",
    "  method = c(\"auto\", \"virtualenv\", \"conda\"), \n",
    "  conda = \"auto\", \n",
    "  version = \"default\", \n",
    "  envname = NULL, \n",
    "  extra_packages = NULL, \n",
    "  restart_session = TRUE, \n",
    "  conda_python_version = NULL, \n",
    "  ..., \n",
    "  pip_ignore_installed = TRUE, \n",
    "  python_version = conda_python_version \n",
    ") \n",
    "\n",
    "keras::install_keras()\n",
    "\n",
    "library(caret)\n",
    "library(e1071)\n",
    "library(randomForest)\n",
    "library(datasets)\n",
    "library(caret)\n",
    "library(mlbench)\n",
    "library(dplyr)\n",
    "library(magrittr)\n",
    "library(neuralnet)\n",
    "library(tensorflow)\n",
    "library(keras)\n",
    "# ************************************************\n",
    "# This is where R starts execution\n",
    "\n",
    "# Automatically release memory\n",
    "gc()\n",
    "\n",
    "# Tries to clear plots and other graphics in RStudio output\n",
    "if(!is.null(dev.list())) dev.off()\n",
    "graphics.off()\n",
    "\n",
    "# This clears all warning messages\n",
    "#assign(\"last.warning\", NULL, envir = baseenv())\n",
    "\n",
    "# clears the RStudio console area\n",
    "cat(\"\\014\")\n",
    "\n",
    "# If library not already on your computer this will download and\n",
    "# install the library. Each library is activated.\n"
   ]
  },
  {
   "cell_type": "code",
   "execution_count": 22,
   "id": "ac1d5afc",
   "metadata": {},
   "outputs": [
    {
     "name": "stdout",
     "output_type": "stream",
     "text": [
      "[1] \"CSV dataset processed.csv has been read. Records= 259760\"\n",
      "[1] \"Select Fields\"\n",
      "[1] \"satisfactionv2\"  \"CustomerType\"    \"Baggagehandling\" \"Checkinservice\" \n",
      "[5] \"Cleanliness\"     \"Onlineboarding\" \n",
      "[1] \"Number of Training 181832\"\n",
      "[1] \"Number of Testing 77928\"\n"
     ]
    }
   ],
   "source": [
    "OUTPUT_FIELD = \"satisfactionv2\"\n",
    "processed_training<- NreadDataset('processed.csv')\n",
    "\n",
    "# remmove unwanted fields\n",
    "p<-c(\"X\")#,\"DepartureDelayinMinutes0\" ,\"DepartureDelayinMinutes1\",\"DepartureDelayinMinutes2\",\"DepartureDelayinMinutes3\",\"ArrivalDelayinMinutes0\",\n",
    "   # \"ArrivalDelayinMinutes1\",\"ArrivalDelayinMinutes2\",\"ArrivalDelayinMinutes3\")\n",
    "\n",
    "processed_training<-processed_training[,names(processed_training [-which(names(processed_training)%in% p)])]\n",
    "\n",
    "select_field<-c('satisfactionv2',\n",
    "#                'Gender',\n",
    "                'CustomerType',\n",
    "#                 'TypeofTravel',\n",
    "#                 'ClassBusiness',\n",
    "#                 'ClassEco',\n",
    "#                 'ClassEcoPlus',\n",
    "#                 'DepartureDelayinMinutes0',\n",
    "#                 'DepartureDelayinMinutes1',\n",
    "#                 'DepartureDelayinMinutes2',\n",
    "#                 'DepartureDelayinMinutes3',\n",
    "#                 'ArrivalDelayinMinutes0',\n",
    "#                 'ArrivalDelayinMinutes1',\n",
    "#                 'ArrivalDelayinMinutes2',\n",
    "#                 'ArrivalDelayinMinutes3',\n",
    "#                 'Age',\n",
    "#                 'Seatcomfort',\n",
    "#                 'DepartureArrivaltimeconvenient',\n",
    "#                 'Foodanddrink',\n",
    "#                 'Gatelocation',\n",
    "#                 'Inflightwifiservice',\n",
    "#                 'Inflightentertainment',\n",
    "#                 'EaseofOnlinebooking',\n",
    "#                 'Onboardservice',\n",
    "#                 'Legroomservice',\n",
    "                'Baggagehandling',\n",
    "                'Checkinservice',\n",
    "                'Cleanliness',\n",
    "                'Onlineboarding')\n",
    "\n",
    "print(\"Select Fields\")\n",
    "print(select_field)\n",
    "\n",
    "processed_training<-processed_training[,select_field]\n",
    "processed_training<-processed_training[sample(nrow(processed_training)),]\n",
    "training_records<-round(nrow(processed_training)*(70/100))\n",
    "training_data <- processed_training[1:training_records,]\n",
    "testing_data <- processed_training[-(1:training_records),]\n",
    "\n",
    "print(paste(\"Number of Training\",nrow(training_data)))\n",
    "print(paste(\"Number of Testing\",nrow(testing_data)))\n"
   ]
  },
  {
   "cell_type": "code",
   "execution_count": 24,
   "id": "ded3f053",
   "metadata": {},
   "outputs": [],
   "source": [
    "# Function from lab\n",
    "myModelFormula<-function(dataset,fieldNameOutput,selectField){\n",
    "     \n",
    "  inputs<-paste(names(dataset)[which(names(dataset)!=fieldNameOutput )],collapse = \"+\")\n",
    "\n",
    "  output<-paste(fieldNameOutput,\"~\")\n",
    "\n",
    "  formular=as.formula(paste(output,inputs))\n",
    "\n",
    "  return(formular)\n",
    "\n",
    "} "
   ]
  },
  {
   "cell_type": "code",
   "execution_count": 41,
   "id": "06768fc2",
   "metadata": {},
   "outputs": [],
   "source": [
    "formular <- myModelFormula(training_data,OUTPUT_FIELD)\n",
    "\n",
    "data<-training_data[1:4000,]"
   ]
  },
  {
   "cell_type": "code",
   "execution_count": 2,
   "id": "723737a0",
   "metadata": {},
   "outputs": [
    {
     "ename": "ERROR",
     "evalue": "Error: Valid installation of TensorFlow not found.\n\nPython environments searched for 'tensorflow' package:\n /vol/research/AVGAN/Anaconda_Installation/anaconda3/envs/pba/bin/python3.10\n /vol/research/AVGAN/Anaconda_Installation/anaconda3/bin/python3.9\n\nPython exception encountered:\n Traceback (most recent call last):\n  File \"/vol/research/AVGAN/Anaconda_Installation/anaconda3/envs/jupyter/lib/R/library/reticulate/python/rpytools/loader.py\", line 39, in _import_hook\n    module = _import(\nModuleNotFoundError: No module named 'tensorflow'\n\n\nYou can install TensorFlow using the install_tensorflow() function.\n\n",
     "output_type": "error",
     "traceback": [
      "Error: Valid installation of TensorFlow not found.\n\nPython environments searched for 'tensorflow' package:\n /vol/research/AVGAN/Anaconda_Installation/anaconda3/envs/pba/bin/python3.10\n /vol/research/AVGAN/Anaconda_Installation/anaconda3/bin/python3.9\n\nPython exception encountered:\n Traceback (most recent call last):\n  File \"/vol/research/AVGAN/Anaconda_Installation/anaconda3/envs/jupyter/lib/R/library/reticulate/python/rpytools/loader.py\", line 39, in _import_hook\n    module = _import(\nModuleNotFoundError: No module named 'tensorflow'\n\n\nYou can install TensorFlow using the install_tensorflow() function.\n\nTraceback:\n",
      "1. keras_model_sequential()",
      "2. keras$models",
      "3. `$.python.builtin.module`(keras, \"models\")",
      "4. py_resolve_module_proxy(x)",
      "5. on_error(result)",
      "6. stop(tf_config()$error_message, call. = FALSE)"
     ]
    }
   ],
   "source": [
    "model <- keras_model_sequential()\n",
    "model %>%\n",
    "        layer_dense(units= 5, activation= 'relu', input_shape=c((21))) %>%\n",
    "        layer_dense(units= 1)"
   ]
  },
  {
   "cell_type": "code",
   "execution_count": 46,
   "id": "882cfed5",
   "metadata": {},
   "outputs": [],
   "source": []
  },
  {
   "cell_type": "code",
   "execution_count": 45,
   "id": "7b5b3015",
   "metadata": {},
   "outputs": [
    {
     "data": {
      "text/plain": [
       "NULL"
      ]
     },
     "metadata": {},
     "output_type": "display_data"
    }
   ],
   "source": []
  },
  {
   "cell_type": "code",
   "execution_count": null,
   "id": "680d8d52",
   "metadata": {},
   "outputs": [],
   "source": []
  }
 ],
 "metadata": {
  "kernelspec": {
   "display_name": "R",
   "language": "R",
   "name": "ir"
  }
 },
 "nbformat": 4,
 "nbformat_minor": 5
}
