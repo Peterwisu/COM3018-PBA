{
 "cells": [
  {
   "cell_type": "code",
   "execution_count": null,
   "id": "1f0e765b",
   "metadata": {
    "scrolled": true
   },
   "outputs": [
    {
     "data": {
      "text/html": [
       "'conda 4.12.0'"
      ],
      "text/latex": [
       "'conda 4.12.0'"
      ],
      "text/markdown": [
       "'conda 4.12.0'"
      ],
      "text/plain": [
       "[1] \"conda 4.12.0\""
      ]
     },
     "metadata": {},
     "output_type": "display_data"
    },
    {
     "data": {
      "text/html": [
       "<table class=\"dataframe\">\n",
       "<caption>A data.frame: 10 × 2</caption>\n",
       "<thead>\n",
       "\t<tr><th scope=col>name</th><th scope=col>python</th></tr>\n",
       "\t<tr><th scope=col>&lt;chr&gt;</th><th scope=col>&lt;chr&gt;</th></tr>\n",
       "</thead>\n",
       "<tbody>\n",
       "\t<tr><td>base       </td><td>/vol/research/AVGAN/Anaconda_Installation/anaconda3/bin/python                 </td></tr>\n",
       "\t<tr><td>ci         </td><td>/vol/research/AVGAN/Anaconda_Installation/anaconda3/envs/ci/bin/python         </td></tr>\n",
       "\t<tr><td>cw         </td><td>/vol/research/AVGAN/Anaconda_Installation/anaconda3/envs/cw/bin/python         </td></tr>\n",
       "\t<tr><td>docker_test</td><td>/vol/research/AVGAN/Anaconda_Installation/anaconda3/envs/docker_test/bin/python</td></tr>\n",
       "\t<tr><td>jupyter    </td><td>/vol/research/AVGAN/Anaconda_Installation/anaconda3/envs/jupyter/bin/python    </td></tr>\n",
       "\t<tr><td>oliver     </td><td>/vol/research/AVGAN/Anaconda_Installation/anaconda3/envs/oliver/bin/python     </td></tr>\n",
       "\t<tr><td>pba        </td><td>/vol/research/AVGAN/Anaconda_Installation/anaconda3/envs/pba/bin/python        </td></tr>\n",
       "\t<tr><td>text_cuda  </td><td>/vol/research/AVGAN/Anaconda_Installation/anaconda3/envs/text_cuda/bin/python  </td></tr>\n",
       "\t<tr><td>wav2lip    </td><td>/vol/research/AVGAN/Anaconda_Installation/anaconda3/envs/wav2lip/bin/python    </td></tr>\n",
       "\t<tr><td>wavtalk    </td><td>/vol/research/AVGAN/Anaconda_Installation/anaconda3/envs/wavtalk/bin/python    </td></tr>\n",
       "</tbody>\n",
       "</table>\n"
      ],
      "text/latex": [
       "A data.frame: 10 × 2\n",
       "\\begin{tabular}{ll}\n",
       " name & python\\\\\n",
       " <chr> & <chr>\\\\\n",
       "\\hline\n",
       "\t base        & /vol/research/AVGAN/Anaconda\\_Installation/anaconda3/bin/python                 \\\\\n",
       "\t ci          & /vol/research/AVGAN/Anaconda\\_Installation/anaconda3/envs/ci/bin/python         \\\\\n",
       "\t cw          & /vol/research/AVGAN/Anaconda\\_Installation/anaconda3/envs/cw/bin/python         \\\\\n",
       "\t docker\\_test & /vol/research/AVGAN/Anaconda\\_Installation/anaconda3/envs/docker\\_test/bin/python\\\\\n",
       "\t jupyter     & /vol/research/AVGAN/Anaconda\\_Installation/anaconda3/envs/jupyter/bin/python    \\\\\n",
       "\t oliver      & /vol/research/AVGAN/Anaconda\\_Installation/anaconda3/envs/oliver/bin/python     \\\\\n",
       "\t pba         & /vol/research/AVGAN/Anaconda\\_Installation/anaconda3/envs/pba/bin/python        \\\\\n",
       "\t text\\_cuda   & /vol/research/AVGAN/Anaconda\\_Installation/anaconda3/envs/text\\_cuda/bin/python  \\\\\n",
       "\t wav2lip     & /vol/research/AVGAN/Anaconda\\_Installation/anaconda3/envs/wav2lip/bin/python    \\\\\n",
       "\t wavtalk     & /vol/research/AVGAN/Anaconda\\_Installation/anaconda3/envs/wavtalk/bin/python    \\\\\n",
       "\\end{tabular}\n"
      ],
      "text/markdown": [
       "\n",
       "A data.frame: 10 × 2\n",
       "\n",
       "| name &lt;chr&gt; | python &lt;chr&gt; |\n",
       "|---|---|\n",
       "| base        | /vol/research/AVGAN/Anaconda_Installation/anaconda3/bin/python                  |\n",
       "| ci          | /vol/research/AVGAN/Anaconda_Installation/anaconda3/envs/ci/bin/python          |\n",
       "| cw          | /vol/research/AVGAN/Anaconda_Installation/anaconda3/envs/cw/bin/python          |\n",
       "| docker_test | /vol/research/AVGAN/Anaconda_Installation/anaconda3/envs/docker_test/bin/python |\n",
       "| jupyter     | /vol/research/AVGAN/Anaconda_Installation/anaconda3/envs/jupyter/bin/python     |\n",
       "| oliver      | /vol/research/AVGAN/Anaconda_Installation/anaconda3/envs/oliver/bin/python      |\n",
       "| pba         | /vol/research/AVGAN/Anaconda_Installation/anaconda3/envs/pba/bin/python         |\n",
       "| text_cuda   | /vol/research/AVGAN/Anaconda_Installation/anaconda3/envs/text_cuda/bin/python   |\n",
       "| wav2lip     | /vol/research/AVGAN/Anaconda_Installation/anaconda3/envs/wav2lip/bin/python     |\n",
       "| wavtalk     | /vol/research/AVGAN/Anaconda_Installation/anaconda3/envs/wavtalk/bin/python     |\n",
       "\n"
      ],
      "text/plain": [
       "   name       \n",
       "1  base       \n",
       "2  ci         \n",
       "3  cw         \n",
       "4  docker_test\n",
       "5  jupyter    \n",
       "6  oliver     \n",
       "7  pba        \n",
       "8  text_cuda  \n",
       "9  wav2lip    \n",
       "10 wavtalk    \n",
       "   python                                                                         \n",
       "1  /vol/research/AVGAN/Anaconda_Installation/anaconda3/bin/python                 \n",
       "2  /vol/research/AVGAN/Anaconda_Installation/anaconda3/envs/ci/bin/python         \n",
       "3  /vol/research/AVGAN/Anaconda_Installation/anaconda3/envs/cw/bin/python         \n",
       "4  /vol/research/AVGAN/Anaconda_Installation/anaconda3/envs/docker_test/bin/python\n",
       "5  /vol/research/AVGAN/Anaconda_Installation/anaconda3/envs/jupyter/bin/python    \n",
       "6  /vol/research/AVGAN/Anaconda_Installation/anaconda3/envs/oliver/bin/python     \n",
       "7  /vol/research/AVGAN/Anaconda_Installation/anaconda3/envs/pba/bin/python        \n",
       "8  /vol/research/AVGAN/Anaconda_Installation/anaconda3/envs/text_cuda/bin/python  \n",
       "9  /vol/research/AVGAN/Anaconda_Installation/anaconda3/envs/wav2lip/bin/python    \n",
       "10 /vol/research/AVGAN/Anaconda_Installation/anaconda3/envs/wavtalk/bin/python    "
      ]
     },
     "metadata": {},
     "output_type": "display_data"
    },
    {
     "name": "stderr",
     "output_type": "stream",
     "text": [
      "+ '/vol/research/AVGAN/Anaconda_Installation/anaconda3/bin/conda' 'install' '--yes' '--name' 'pba' '-c' 'conda-forge' 'r-reticulate'\n",
      "\n"
     ]
    }
   ],
   "source": [
    " library(reticulate)\n",
    "  conda_version()\n",
    "  conda_list()\n",
    " # conda_python(envname = \"pba\")    \n",
    "  conda_install(envname = \"pba\",packages=\"r-reticulate\")\n",
    "  conda_install(envname = \"pba\",packages=\"r-tensorflow\")\n",
    "  conda_install(envname = \"pba\",packages=\"r-keras\")\n",
    "library(tensorflow)\n",
    "    library(keras)\n",
    "    library(reticulate)\n",
    "    conda_python(envname = \"pba\")\n",
    "    install_keras(method = \"conda\" ,envname = \"pba\", tensorflow = \"gpu\")\n",
    "    "
   ]
  },
  {
   "cell_type": "code",
   "execution_count": 2,
   "id": "9b769ced",
   "metadata": {},
   "outputs": [],
   "source": [
    "library(tensorflow)\n",
    "library(keras)\n",
    "tf$constant(\"Hello Tensorflow!\")"
   ]
  },
  {
   "cell_type": "code",
   "execution_count": null,
   "id": "967d78d1",
   "metadata": {},
   "outputs": [],
   "source": [
    "install.packages(\"keras\")"
   ]
  }
 ],
 "metadata": {
  "kernelspec": {
   "display_name": "R",
   "language": "R",
   "name": "ir"
  },
  "language_info": {
   "codemirror_mode": "r",
   "file_extension": ".r",
   "mimetype": "text/x-r-source",
   "name": "R",
   "pygments_lexer": "r",
   "version": "4.1.3"
  }
 },
 "nbformat": 4,
 "nbformat_minor": 5
}
