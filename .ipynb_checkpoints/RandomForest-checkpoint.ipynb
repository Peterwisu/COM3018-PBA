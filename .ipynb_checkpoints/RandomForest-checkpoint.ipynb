{
 "cells": [
  {
   "cell_type": "code",
   "execution_count": 2,
   "id": "7def468b",
   "metadata": {},
   "outputs": [
    {
     "name": "stderr",
     "output_type": "stream",
     "text": [
      "Warning message in install.packages(\"e1071\"):\n",
      "“installation of package ‘e1071’ had non-zero exit status”\n",
      "Updating HTML index of packages in '.Library'\n",
      "\n",
      "Making 'packages.html' ...\n",
      " done\n",
      "\n",
      "Loading required package: ggplot2\n",
      "\n",
      "Loading required package: lattice\n",
      "\n",
      "randomForest 4.7-1.1\n",
      "\n",
      "Type rfNews() to see new features/changes/bug fixes.\n",
      "\n",
      "\n",
      "Attaching package: ‘randomForest’\n",
      "\n",
      "\n",
      "The following object is masked from ‘package:ggplot2’:\n",
      "\n",
      "    margin\n",
      "\n",
      "\n"
     ]
    },
    {
     "data": {
      "text/html": [
       "<table class=\"dataframe\">\n",
       "<caption>A matrix: 2 × 6 of type dbl</caption>\n",
       "<thead>\n",
       "\t<tr><th></th><th scope=col>used</th><th scope=col>(Mb)</th><th scope=col>gc trigger</th><th scope=col>(Mb)</th><th scope=col>max used</th><th scope=col>(Mb)</th></tr>\n",
       "</thead>\n",
       "<tbody>\n",
       "\t<tr><th scope=row>Ncells</th><td>2300563</td><td>122.9</td><td>4469017</td><td>238.7</td><td>3866690</td><td>206.6</td></tr>\n",
       "\t<tr><th scope=row>Vcells</th><td>3940624</td><td> 30.1</td><td>8388608</td><td> 64.0</td><td>7255313</td><td> 55.4</td></tr>\n",
       "</tbody>\n",
       "</table>\n"
      ],
      "text/latex": [
       "A matrix: 2 × 6 of type dbl\n",
       "\\begin{tabular}{r|llllll}\n",
       "  & used & (Mb) & gc trigger & (Mb) & max used & (Mb)\\\\\n",
       "\\hline\n",
       "\tNcells & 2300563 & 122.9 & 4469017 & 238.7 & 3866690 & 206.6\\\\\n",
       "\tVcells & 3940624 &  30.1 & 8388608 &  64.0 & 7255313 &  55.4\\\\\n",
       "\\end{tabular}\n"
      ],
      "text/markdown": [
       "\n",
       "A matrix: 2 × 6 of type dbl\n",
       "\n",
       "| <!--/--> | used | (Mb) | gc trigger | (Mb) | max used | (Mb) |\n",
       "|---|---|---|---|---|---|---|\n",
       "| Ncells | 2300563 | 122.9 | 4469017 | 238.7 | 3866690 | 206.6 |\n",
       "| Vcells | 3940624 |  30.1 | 8388608 |  64.0 | 7255313 |  55.4 |\n",
       "\n"
      ],
      "text/plain": [
       "       used    (Mb)  gc trigger (Mb)  max used (Mb) \n",
       "Ncells 2300563 122.9 4469017    238.7 3866690  206.6\n",
       "Vcells 3940624  30.1 8388608     64.0 7255313   55.4"
      ]
     },
     "metadata": {},
     "output_type": "display_data"
    },
    {
     "data": {
      "text/html": [
       "<strong>null device:</strong> 1"
      ],
      "text/latex": [
       "\\textbf{null device:} 1"
      ],
      "text/markdown": [
       "**null device:** 1"
      ],
      "text/plain": [
       "null device \n",
       "          1 "
      ]
     },
     "metadata": {},
     "output_type": "display_data"
    },
    {
     "name": "stdout",
     "output_type": "stream",
     "text": [
      "\f"
     ]
    }
   ],
   "source": [
    "source('functions.R')\n",
    "\n",
    "DATASET_FILENAME = './combined.csv'\n",
    "OUTPUT_FIELD = \"satisfactionv2\"\n",
    "\n",
    "MYLIBRARIES<-c(\"outliers\",\n",
    "               \"corrplot\",\n",
    "               \"formattable\",\n",
    "               \"stats\",\n",
    "               \"caret\",\n",
    "               \"PerformanceAnalytics\",\n",
    "               \"stringr\",\n",
    "               \"partykit\",\n",
    "               \"C50\",\n",
    "               \"randomForest\",\n",
    "               #\"keras\",\n",
    "               \"h2o\")\n",
    "\n",
    "install.packages('e1071')\n",
    "library(caret)\n",
    "library(e1071)\n",
    "library(randomForest)\n",
    "library(datasets)\n",
    "library(caret)\n",
    "# ************************************************\n",
    "# This is where R starts execution\n",
    "\n",
    "# Automatically release memory\n",
    "gc()\n",
    "\n",
    "# Tries to clear plots and other graphics in RStudio output\n",
    "if(!is.null(dev.list())) dev.off()\n",
    "graphics.off()\n",
    "\n",
    "# This clears all warning messages\n",
    "#assign(\"last.warning\", NULL, envir = baseenv())\n",
    "\n",
    "# clears the RStudio console area\n",
    "cat(\"\\014\")\n",
    "\n",
    "# If library not already on your computer this will download and\n",
    "# install the library. Each library is activated.\n",
    "library(pacman)\n",
    "pacman::p_load(char=MYLIBRARIES,install=TRUE,character.only=TRUE)"
   ]
  },
  {
   "cell_type": "code",
   "execution_count": 4,
   "id": "3fcac015",
   "metadata": {},
   "outputs": [
    {
     "name": "stdout",
     "output_type": "stream",
     "text": [
      "[1] \"CSV dataset processed.csv has been read. Records= 259760\"\n",
      "[1] \"Select Fields\"\n",
      " [1] \"satisfactionv2\"                 \"CustomerType\"                  \n",
      " [3] \"TypeofTravel\"                   \"ClassBusiness\"                 \n",
      " [5] \"ClassEco\"                       \"ClassEcoPlus\"                  \n",
      " [7] \"Seatcomfort\"                    \"DepartureArrivaltimeconvenient\"\n",
      " [9] \"Foodanddrink\"                   \"Gatelocation\"                  \n",
      "[11] \"Inflightwifiservice\"            \"Inflightentertainment\"         \n",
      "[13] \"EaseofOnlinebooking\"            \"Onboardservice\"                \n",
      "[15] \"Legroomservice\"                 \"Baggagehandling\"               \n",
      "[17] \"Checkinservice\"                 \"Cleanliness\"                   \n",
      "[19] \"Onlineboarding\"                \n",
      "[1] \"Number of Training 181832\"\n",
      "[1] \"Number of Testing 77928\"\n"
     ]
    }
   ],
   "source": [
    "OUTPUT_FIELD = \"satisfactionv2\"\n",
    "processed_training<- NreadDataset('processed.csv')\n",
    "\n",
    "# remmove unwanted fields\n",
    "p<-c(\"X\")#,\"DepartureDelayinMinutes0\" ,\"DepartureDelayinMinutes1\",\"DepartureDelayinMinutes2\",\"DepartureDelayinMinutes3\",\"ArrivalDelayinMinutes0\",\n",
    "   # \"ArrivalDelayinMinutes1\",\"ArrivalDelayinMinutes2\",\"ArrivalDelayinMinutes3\")\n",
    "\n",
    "processed_training<-processed_training[,names(processed_training [-which(names(processed_training)%in% p)])]\n",
    "\n",
    "\n",
    "select_field<-c('satisfactionv2',\n",
    "#                'Gender',\n",
    "                'CustomerType',\n",
    "                'TypeofTravel',\n",
    "                'ClassBusiness',\n",
    "                'ClassEco',\n",
    "                'ClassEcoPlus',\n",
    "#                 'DepartureDelayinMinutes0',\n",
    "#                 'DepartureDelayinMinutes1',\n",
    "#                 'DepartureDelayinMinutes2',\n",
    "#                 'DepartureDelayinMinutes3',\n",
    "#                 'ArrivalDelayinMinutes0',\n",
    "#                 'ArrivalDelayinMinutes1',\n",
    "#                 'ArrivalDelayinMinutes2',\n",
    "#                 'ArrivalDelayinMinutes3',\n",
    "#                'Age',\n",
    "                'Seatcomfort',\n",
    "                'DepartureArrivaltimeconvenient',\n",
    "                'Foodanddrink',\n",
    "                'Gatelocation',\n",
    "                'Inflightwifiservice',\n",
    "                'Inflightentertainment',\n",
    "                'EaseofOnlinebooking',\n",
    "                'Onboardservice',\n",
    "                'Legroomservice',\n",
    "                'Baggagehandling',\n",
    "                'Checkinservice',\n",
    "                'Cleanliness',\n",
    "                'Onlineboarding')\n",
    "\n",
    "print(\"Select Fields\")\n",
    "print(select_field)\n",
    "\n",
    "processed_training<-processed_training[,select_field]\n",
    "processed_training<-processed_training[sample(nrow(processed_training)),]\n",
    "training_records<-round(nrow(processed_training)*(70/100))\n",
    "training_data <- processed_training[1:training_records,]\n",
    "testing_data <- processed_training[-(1:training_records),]\n",
    "\n",
    "print(paste(\"Number of Training\",nrow(training_data)))\n",
    "print(paste(\"Number of Testing\",nrow(testing_data)))\n"
   ]
  },
  {
   "cell_type": "code",
   "execution_count": 27,
   "id": "f56db010",
   "metadata": {},
   "outputs": [
    {
     "name": "stdout",
     "output_type": "stream",
     "text": [
      "[1] 0 0 0 1 1 0\n"
     ]
    }
   ],
   "source": [
    "# modified function from lab\n",
    "eval_Forest<-function(pred_label, gt_label){\n",
    "    \n",
    "\n",
    "   \n",
    "    # Confusion matrix table\n",
    "    cm<-table(factor(pred_label,levels=0:1), factor(gt_label, levels=0:1))\n",
    "    # True positive\n",
    "    TP<-as.double(cm[2,2])\n",
    "    # False Negative \n",
    "    FN<-as.double(cm[1,2])\n",
    "    # False Positive \n",
    "    FP<-as.double(cm[2,1])\n",
    "    # True Negative \n",
    "    TN<-as.double(cm[1,1])\n",
    "    \n",
    "    # accuracy\n",
    "    acc<- 100.0 *((TP+TN)/(TP+FP+FN+TN))\n",
    "    \n",
    "    # precision\n",
    "    pgood<-100.0*(TP/(TP+FP))\n",
    "    pbad<-100.0*(TN/(FN+TN))\n",
    "    # False positive rate\n",
    "    FPR<-100.0*(FP/(FP+TN))\n",
    "    # True positive rate OR RECALL\n",
    "    TPR<-100.0*(TP/(TP+FN))\n",
    "    # True negative rate \n",
    "    TNR<-100.0*(TN/(FP+TN))\n",
    "    #  Mathhew's Correlation Coefficient\n",
    "    MCC<-((TP*TN)-(FP*FN))/sqrt((TP+FP)*(TP+FN)*(TN+FP)*(TN+FN))\n",
    "    \n",
    "   \n",
    "    output<- list(\"TP\"=TP,\n",
    "                  \"FN\"=FN, \n",
    "                  \"FP\"=FP,\n",
    "                  \"TN\"=TN, \n",
    "                  \"acc\"=acc,\n",
    "                  \"pgood\"=pgood,\n",
    "                  \"pbad\"=pbad,\n",
    "                  \"FPR\"=FPR,\n",
    "                  \"TPR\"=TPR,\n",
    "                  \"TNR\"=TNR,\n",
    "                  \"MCC\"=MCC)\n",
    "    \n",
    "    return(output)\n",
    "}\n",
    "\n",
    "\n",
    "RandomForestClassifier<-function(training_data, testing_data,output_field){\n",
    "    \n",
    "    \n",
    "\n",
    "# Training data\n",
    "x_train<-training_data[,names(training_data [-which(names(training_data)%in% output_field)])]\n",
    "y_train<-training_data[,output_field]\n",
    "# Testing data\n",
    "x_test<-testing_data[,names(training_data [-which(names(testing_data)%in% output_field)])]\n",
    "y_test<-testing_data[,output_field]\n",
    "\n",
    "\n",
    "print(head(y_train))\n",
    "RandForestModel<-randomForest::randomForest(x_train,\n",
    "                               factor(y_train),\n",
    "                               ntree=50 ,\n",
    "                               importance=TRUE,\n",
    "                               mtry=sqrt(ncol(x_train)))\n",
    "    \n",
    "y_pred<-predict(RandForestModel, newdata=x_test)\n",
    "\n",
    "return(list('pred'=y_pred,'gt'=y_test))\n",
    "}\n",
    "\n",
    "rf<-RandomForestClassifier(training_data,testing_data,OUTPUT_FIELD)"
   ]
  },
  {
   "cell_type": "code",
   "execution_count": 32,
   "id": "ac84b1f7",
   "metadata": {},
   "outputs": [],
   "source": [
    "y_pred<-rf$pred\n",
    "gt<-rf$gt"
   ]
  },
  {
   "cell_type": "code",
   "execution_count": 10,
   "id": "f44d5807",
   "metadata": {},
   "outputs": [],
   "source": []
  },
  {
   "cell_type": "code",
   "execution_count": 19,
   "id": "1fe10235",
   "metadata": {},
   "outputs": [],
   "source": [
    "\n"
   ]
  },
  {
   "cell_type": "code",
   "execution_count": 34,
   "id": "9218f269",
   "metadata": {},
   "outputs": [],
   "source": [
    "a<-table(y_pred,gt)"
   ]
  },
  {
   "cell_type": "code",
   "execution_count": 38,
   "id": "79b3ce99",
   "metadata": {},
   "outputs": [
    {
     "data": {
      "text/html": [
       "<dl>\n",
       "\t<dt>$TP</dt>\n",
       "\t\t<dd>37945</dd>\n",
       "\t<dt>$FN</dt>\n",
       "\t\t<dd>1690</dd>\n",
       "\t<dt>$FP</dt>\n",
       "\t\t<dd>2447</dd>\n",
       "\t<dt>$TN</dt>\n",
       "\t\t<dd>35846</dd>\n",
       "\t<dt>$acc</dt>\n",
       "\t\t<dd>94.6912534647367</dd>\n",
       "\t<dt>$pgood</dt>\n",
       "\t\t<dd>93.9418696771638</dd>\n",
       "\t<dt>$pbad</dt>\n",
       "\t\t<dd>95.4976555839727</dd>\n",
       "\t<dt>$FPR</dt>\n",
       "\t\t<dd>6.39020186457055</dd>\n",
       "\t<dt>$TPR</dt>\n",
       "\t\t<dd>95.7360918380219</dd>\n",
       "\t<dt>$TNR</dt>\n",
       "\t\t<dd>93.6097981354295</dd>\n",
       "\t<dt>$MCC</dt>\n",
       "\t\t<dd>0.893926953573905</dd>\n",
       "</dl>\n"
      ],
      "text/latex": [
       "\\begin{description}\n",
       "\\item[\\$TP] 37945\n",
       "\\item[\\$FN] 1690\n",
       "\\item[\\$FP] 2447\n",
       "\\item[\\$TN] 35846\n",
       "\\item[\\$acc] 94.6912534647367\n",
       "\\item[\\$pgood] 93.9418696771638\n",
       "\\item[\\$pbad] 95.4976555839727\n",
       "\\item[\\$FPR] 6.39020186457055\n",
       "\\item[\\$TPR] 95.7360918380219\n",
       "\\item[\\$TNR] 93.6097981354295\n",
       "\\item[\\$MCC] 0.893926953573905\n",
       "\\end{description}\n"
      ],
      "text/markdown": [
       "$TP\n",
       ":   37945\n",
       "$FN\n",
       ":   1690\n",
       "$FP\n",
       ":   2447\n",
       "$TN\n",
       ":   35846\n",
       "$acc\n",
       ":   94.6912534647367\n",
       "$pgood\n",
       ":   93.9418696771638\n",
       "$pbad\n",
       ":   95.4976555839727\n",
       "$FPR\n",
       ":   6.39020186457055\n",
       "$TPR\n",
       ":   95.7360918380219\n",
       "$TNR\n",
       ":   93.6097981354295\n",
       "$MCC\n",
       ":   0.893926953573905\n",
       "\n",
       "\n"
      ],
      "text/plain": [
       "$TP\n",
       "[1] 37945\n",
       "\n",
       "$FN\n",
       "[1] 1690\n",
       "\n",
       "$FP\n",
       "[1] 2447\n",
       "\n",
       "$TN\n",
       "[1] 35846\n",
       "\n",
       "$acc\n",
       "[1] 94.69125\n",
       "\n",
       "$pgood\n",
       "[1] 93.94187\n",
       "\n",
       "$pbad\n",
       "[1] 95.49766\n",
       "\n",
       "$FPR\n",
       "[1] 6.390202\n",
       "\n",
       "$TPR\n",
       "[1] 95.73609\n",
       "\n",
       "$TNR\n",
       "[1] 93.6098\n",
       "\n",
       "$MCC\n",
       "[1] 0.893927\n"
      ]
     },
     "metadata": {},
     "output_type": "display_data"
    }
   ],
   "source": [
    "eval_Forest(y_pred,gt)"
   ]
  },
  {
   "cell_type": "code",
   "execution_count": 37,
   "id": "4ea037a9",
   "metadata": {},
   "outputs": [],
   "source": [
    "\n"
   ]
  },
  {
   "cell_type": "code",
   "execution_count": null,
   "id": "40f952bb",
   "metadata": {},
   "outputs": [],
   "source": []
  },
  {
   "cell_type": "code",
   "execution_count": null,
   "id": "0d20dda9",
   "metadata": {},
   "outputs": [],
   "source": []
  },
  {
   "cell_type": "code",
   "execution_count": 100,
   "id": "f1425a09",
   "metadata": {},
   "outputs": [
    {
     "data": {
      "image/png": "[encoded data removed]",
      "text/plain": [
       "Plot with title “rf”"
      ]
     },
     "metadata": {
      "image/png": {
       "height": 420,
       "width": 420
      }
     },
     "output_type": "display_data"
    }
   ],
   "source": []
  },
  {
   "cell_type": "code",
   "execution_count": 88,
   "id": "09ffd143",
   "metadata": {},
   "outputs": [
    {
     "data": {
      "text/html": [
       "<table class=\"dataframe\">\n",
       "<caption>A matrix: 28 × 4 of type dbl</caption>\n",
       "<thead>\n",
       "\t<tr><th></th><th scope=col>0</th><th scope=col>1</th><th scope=col>MeanDecreaseAccuracy</th><th scope=col>MeanDecreaseGini</th></tr>\n",
       "</thead>\n",
       "<tbody>\n",
       "\t<tr><th scope=row>Gender</th><td>33.807562</td><td>33.397903</td><td>39.908908</td><td> 2240.6760</td></tr>\n",
       "\t<tr><th scope=row>CustomerType</th><td>35.145851</td><td>38.470899</td><td>45.832907</td><td> 3089.1595</td></tr>\n",
       "\t<tr><th scope=row>TypeofTravel</th><td>31.536591</td><td>29.597961</td><td>38.586158</td><td> 2781.1156</td></tr>\n",
       "\t<tr><th scope=row>ClassBusiness</th><td>17.071290</td><td>17.008876</td><td>18.287149</td><td> 4170.9736</td></tr>\n",
       "\t<tr><th scope=row>ClassEco</th><td> 9.200516</td><td>10.270922</td><td> 9.881662</td><td> 1958.0340</td></tr>\n",
       "\t<tr><th scope=row>ClassEcoPlus</th><td> 5.808137</td><td> 4.615776</td><td> 6.136977</td><td>  259.8239</td></tr>\n",
       "\t<tr><th scope=row>DepartureDelayinMinutes0</th><td>12.607171</td><td>14.118557</td><td>17.659135</td><td>  383.3060</td></tr>\n",
       "\t<tr><th scope=row>DepartureDelayinMinutes1</th><td> 9.770158</td><td> 9.771909</td><td>13.717839</td><td>  344.9505</td></tr>\n",
       "\t<tr><th scope=row>DepartureDelayinMinutes2</th><td> 5.408636</td><td> 2.960785</td><td> 5.286278</td><td>  154.0395</td></tr>\n",
       "\t<tr><th scope=row>DepartureDelayinMinutes3</th><td> 6.444075</td><td>16.130110</td><td>16.204647</td><td>  203.7843</td></tr>\n",
       "\t<tr><th scope=row>ArrivalDelayinMinutes0</th><td>18.591088</td><td>14.388574</td><td>20.546490</td><td>  418.6554</td></tr>\n",
       "\t<tr><th scope=row>ArrivalDelayinMinutes1</th><td>15.345309</td><td> 6.888569</td><td>14.389283</td><td>  314.1415</td></tr>\n",
       "\t<tr><th scope=row>ArrivalDelayinMinutes2</th><td> 7.862993</td><td> 6.887957</td><td>10.618484</td><td>  163.0788</td></tr>\n",
       "\t<tr><th scope=row>ArrivalDelayinMinutes3</th><td> 9.625366</td><td>15.532236</td><td>18.188986</td><td>  206.0141</td></tr>\n",
       "\t<tr><th scope=row>Age</th><td>17.442277</td><td>37.882154</td><td>36.028876</td><td> 3737.0841</td></tr>\n",
       "\t<tr><th scope=row>Seatcomfort</th><td>37.503841</td><td>70.346105</td><td>55.598992</td><td> 7018.4990</td></tr>\n",
       "\t<tr><th scope=row>DepartureArrivaltimeconvenient</th><td>36.908477</td><td>43.666235</td><td>47.841852</td><td> 2574.5636</td></tr>\n",
       "\t<tr><th scope=row>Foodanddrink</th><td>29.942821</td><td>32.963951</td><td>39.323661</td><td> 3226.2814</td></tr>\n",
       "\t<tr><th scope=row>Gatelocation</th><td>24.601155</td><td>33.532537</td><td>26.833661</td><td> 2211.7989</td></tr>\n",
       "\t<tr><th scope=row>Inflightwifiservice</th><td>34.041361</td><td>43.591219</td><td>47.563844</td><td> 6052.8264</td></tr>\n",
       "\t<tr><th scope=row>Inflightentertainment</th><td>50.211951</td><td>40.370960</td><td>46.666114</td><td>11302.8054</td></tr>\n",
       "\t<tr><th scope=row>EaseofOnlinebooking</th><td>28.985015</td><td>26.187352</td><td>34.514905</td><td>12961.5606</td></tr>\n",
       "\t<tr><th scope=row>Onboardservice</th><td>19.117206</td><td>33.468981</td><td>25.886762</td><td> 3423.0376</td></tr>\n",
       "\t<tr><th scope=row>Legroomservice</th><td>25.040718</td><td>31.858513</td><td>33.303858</td><td> 3746.7083</td></tr>\n",
       "\t<tr><th scope=row>Baggagehandling</th><td>33.969481</td><td>35.204589</td><td>43.259778</td><td> 2274.7287</td></tr>\n",
       "\t<tr><th scope=row>Checkinservice</th><td>39.081881</td><td>48.044727</td><td>57.132461</td><td> 2326.3630</td></tr>\n",
       "\t<tr><th scope=row>Cleanliness</th><td>23.386423</td><td>56.130579</td><td>47.639416</td><td> 4019.6489</td></tr>\n",
       "\t<tr><th scope=row>Onlineboarding</th><td>27.767948</td><td>30.652134</td><td>34.007422</td><td> 4592.1441</td></tr>\n",
       "</tbody>\n",
       "</table>\n"
      ],
      "text/latex": [
       "A matrix: 28 × 4 of type dbl\n",
       "\\begin{tabular}{r|llll}\n",
       "  & 0 & 1 & MeanDecreaseAccuracy & MeanDecreaseGini\\\\\n",
       "\\hline\n",
       "\tGender & 33.807562 & 33.397903 & 39.908908 &  2240.6760\\\\\n",
       "\tCustomerType & 35.145851 & 38.470899 & 45.832907 &  3089.1595\\\\\n",
       "\tTypeofTravel & 31.536591 & 29.597961 & 38.586158 &  2781.1156\\\\\n",
       "\tClassBusiness & 17.071290 & 17.008876 & 18.287149 &  4170.9736\\\\\n",
       "\tClassEco &  9.200516 & 10.270922 &  9.881662 &  1958.0340\\\\\n",
       "\tClassEcoPlus &  5.808137 &  4.615776 &  6.136977 &   259.8239\\\\\n",
       "\tDepartureDelayinMinutes0 & 12.607171 & 14.118557 & 17.659135 &   383.3060\\\\\n",
       "\tDepartureDelayinMinutes1 &  9.770158 &  9.771909 & 13.717839 &   344.9505\\\\\n",
       "\tDepartureDelayinMinutes2 &  5.408636 &  2.960785 &  5.286278 &   154.0395\\\\\n",
       "\tDepartureDelayinMinutes3 &  6.444075 & 16.130110 & 16.204647 &   203.7843\\\\\n",
       "\tArrivalDelayinMinutes0 & 18.591088 & 14.388574 & 20.546490 &   418.6554\\\\\n",
       "\tArrivalDelayinMinutes1 & 15.345309 &  6.888569 & 14.389283 &   314.1415\\\\\n",
       "\tArrivalDelayinMinutes2 &  7.862993 &  6.887957 & 10.618484 &   163.0788\\\\\n",
       "\tArrivalDelayinMinutes3 &  9.625366 & 15.532236 & 18.188986 &   206.0141\\\\\n",
       "\tAge & 17.442277 & 37.882154 & 36.028876 &  3737.0841\\\\\n",
       "\tSeatcomfort & 37.503841 & 70.346105 & 55.598992 &  7018.4990\\\\\n",
       "\tDepartureArrivaltimeconvenient & 36.908477 & 43.666235 & 47.841852 &  2574.5636\\\\\n",
       "\tFoodanddrink & 29.942821 & 32.963951 & 39.323661 &  3226.2814\\\\\n",
       "\tGatelocation & 24.601155 & 33.532537 & 26.833661 &  2211.7989\\\\\n",
       "\tInflightwifiservice & 34.041361 & 43.591219 & 47.563844 &  6052.8264\\\\\n",
       "\tInflightentertainment & 50.211951 & 40.370960 & 46.666114 & 11302.8054\\\\\n",
       "\tEaseofOnlinebooking & 28.985015 & 26.187352 & 34.514905 & 12961.5606\\\\\n",
       "\tOnboardservice & 19.117206 & 33.468981 & 25.886762 &  3423.0376\\\\\n",
       "\tLegroomservice & 25.040718 & 31.858513 & 33.303858 &  3746.7083\\\\\n",
       "\tBaggagehandling & 33.969481 & 35.204589 & 43.259778 &  2274.7287\\\\\n",
       "\tCheckinservice & 39.081881 & 48.044727 & 57.132461 &  2326.3630\\\\\n",
       "\tCleanliness & 23.386423 & 56.130579 & 47.639416 &  4019.6489\\\\\n",
       "\tOnlineboarding & 27.767948 & 30.652134 & 34.007422 &  4592.1441\\\\\n",
       "\\end{tabular}\n"
      ],
      "text/markdown": [
       "\n",
       "A matrix: 28 × 4 of type dbl\n",
       "\n",
       "| <!--/--> | 0 | 1 | MeanDecreaseAccuracy | MeanDecreaseGini |\n",
       "|---|---|---|---|---|\n",
       "| Gender | 33.807562 | 33.397903 | 39.908908 |  2240.6760 |\n",
       "| CustomerType | 35.145851 | 38.470899 | 45.832907 |  3089.1595 |\n",
       "| TypeofTravel | 31.536591 | 29.597961 | 38.586158 |  2781.1156 |\n",
       "| ClassBusiness | 17.071290 | 17.008876 | 18.287149 |  4170.9736 |\n",
       "| ClassEco |  9.200516 | 10.270922 |  9.881662 |  1958.0340 |\n",
       "| ClassEcoPlus |  5.808137 |  4.615776 |  6.136977 |   259.8239 |\n",
       "| DepartureDelayinMinutes0 | 12.607171 | 14.118557 | 17.659135 |   383.3060 |\n",
       "| DepartureDelayinMinutes1 |  9.770158 |  9.771909 | 13.717839 |   344.9505 |\n",
       "| DepartureDelayinMinutes2 |  5.408636 |  2.960785 |  5.286278 |   154.0395 |\n",
       "| DepartureDelayinMinutes3 |  6.444075 | 16.130110 | 16.204647 |   203.7843 |\n",
       "| ArrivalDelayinMinutes0 | 18.591088 | 14.388574 | 20.546490 |   418.6554 |\n",
       "| ArrivalDelayinMinutes1 | 15.345309 |  6.888569 | 14.389283 |   314.1415 |\n",
       "| ArrivalDelayinMinutes2 |  7.862993 |  6.887957 | 10.618484 |   163.0788 |\n",
       "| ArrivalDelayinMinutes3 |  9.625366 | 15.532236 | 18.188986 |   206.0141 |\n",
       "| Age | 17.442277 | 37.882154 | 36.028876 |  3737.0841 |\n",
       "| Seatcomfort | 37.503841 | 70.346105 | 55.598992 |  7018.4990 |\n",
       "| DepartureArrivaltimeconvenient | 36.908477 | 43.666235 | 47.841852 |  2574.5636 |\n",
       "| Foodanddrink | 29.942821 | 32.963951 | 39.323661 |  3226.2814 |\n",
       "| Gatelocation | 24.601155 | 33.532537 | 26.833661 |  2211.7989 |\n",
       "| Inflightwifiservice | 34.041361 | 43.591219 | 47.563844 |  6052.8264 |\n",
       "| Inflightentertainment | 50.211951 | 40.370960 | 46.666114 | 11302.8054 |\n",
       "| EaseofOnlinebooking | 28.985015 | 26.187352 | 34.514905 | 12961.5606 |\n",
       "| Onboardservice | 19.117206 | 33.468981 | 25.886762 |  3423.0376 |\n",
       "| Legroomservice | 25.040718 | 31.858513 | 33.303858 |  3746.7083 |\n",
       "| Baggagehandling | 33.969481 | 35.204589 | 43.259778 |  2274.7287 |\n",
       "| Checkinservice | 39.081881 | 48.044727 | 57.132461 |  2326.3630 |\n",
       "| Cleanliness | 23.386423 | 56.130579 | 47.639416 |  4019.6489 |\n",
       "| Onlineboarding | 27.767948 | 30.652134 | 34.007422 |  4592.1441 |\n",
       "\n"
      ],
      "text/plain": [
       "                               0         1         MeanDecreaseAccuracy\n",
       "Gender                         33.807562 33.397903 39.908908           \n",
       "CustomerType                   35.145851 38.470899 45.832907           \n",
       "TypeofTravel                   31.536591 29.597961 38.586158           \n",
       "ClassBusiness                  17.071290 17.008876 18.287149           \n",
       "ClassEco                        9.200516 10.270922  9.881662           \n",
       "ClassEcoPlus                    5.808137  4.615776  6.136977           \n",
       "DepartureDelayinMinutes0       12.607171 14.118557 17.659135           \n",
       "DepartureDelayinMinutes1        9.770158  9.771909 13.717839           \n",
       "DepartureDelayinMinutes2        5.408636  2.960785  5.286278           \n",
       "DepartureDelayinMinutes3        6.444075 16.130110 16.204647           \n",
       "ArrivalDelayinMinutes0         18.591088 14.388574 20.546490           \n",
       "ArrivalDelayinMinutes1         15.345309  6.888569 14.389283           \n",
       "ArrivalDelayinMinutes2          7.862993  6.887957 10.618484           \n",
       "ArrivalDelayinMinutes3          9.625366 15.532236 18.188986           \n",
       "Age                            17.442277 37.882154 36.028876           \n",
       "Seatcomfort                    37.503841 70.346105 55.598992           \n",
       "DepartureArrivaltimeconvenient 36.908477 43.666235 47.841852           \n",
       "Foodanddrink                   29.942821 32.963951 39.323661           \n",
       "Gatelocation                   24.601155 33.532537 26.833661           \n",
       "Inflightwifiservice            34.041361 43.591219 47.563844           \n",
       "Inflightentertainment          50.211951 40.370960 46.666114           \n",
       "EaseofOnlinebooking            28.985015 26.187352 34.514905           \n",
       "Onboardservice                 19.117206 33.468981 25.886762           \n",
       "Legroomservice                 25.040718 31.858513 33.303858           \n",
       "Baggagehandling                33.969481 35.204589 43.259778           \n",
       "Checkinservice                 39.081881 48.044727 57.132461           \n",
       "Cleanliness                    23.386423 56.130579 47.639416           \n",
       "Onlineboarding                 27.767948 30.652134 34.007422           \n",
       "                               MeanDecreaseGini\n",
       "Gender                          2240.6760      \n",
       "CustomerType                    3089.1595      \n",
       "TypeofTravel                    2781.1156      \n",
       "ClassBusiness                   4170.9736      \n",
       "ClassEco                        1958.0340      \n",
       "ClassEcoPlus                     259.8239      \n",
       "DepartureDelayinMinutes0         383.3060      \n",
       "DepartureDelayinMinutes1         344.9505      \n",
       "DepartureDelayinMinutes2         154.0395      \n",
       "DepartureDelayinMinutes3         203.7843      \n",
       "ArrivalDelayinMinutes0           418.6554      \n",
       "ArrivalDelayinMinutes1           314.1415      \n",
       "ArrivalDelayinMinutes2           163.0788      \n",
       "ArrivalDelayinMinutes3           206.0141      \n",
       "Age                             3737.0841      \n",
       "Seatcomfort                     7018.4990      \n",
       "DepartureArrivaltimeconvenient  2574.5636      \n",
       "Foodanddrink                    3226.2814      \n",
       "Gatelocation                    2211.7989      \n",
       "Inflightwifiservice             6052.8264      \n",
       "Inflightentertainment          11302.8054      \n",
       "EaseofOnlinebooking            12961.5606      \n",
       "Onboardservice                  3423.0376      \n",
       "Legroomservice                  3746.7083      \n",
       "Baggagehandling                 2274.7287      \n",
       "Checkinservice                  2326.3630      \n",
       "Cleanliness                     4019.6489      \n",
       "Onlineboarding                  4592.1441      "
      ]
     },
     "metadata": {},
     "output_type": "display_data"
    },
    {
     "data": {
      "image/png": "[encoded data removed]",
      "text/plain": [
       "plot without title"
      ]
     },
     "metadata": {
      "image/png": {
       "height": 420,
       "width": 420
      }
     },
     "output_type": "display_data"
    }
   ],
   "source": [
    "# Importance plot\n",
    "importance(rf)\n",
    "  \n",
    "# Variable importance plot\n",
    "varImpPlot(rf)"
   ]
  },
  {
   "cell_type": "code",
   "execution_count": null,
   "id": "00f16bbe",
   "metadata": {},
   "outputs": [],
   "source": []
  }
 ],
 "metadata": {
  "kernelspec": {
   "display_name": "R",
   "language": "R",
   "name": "ir"
  },
  "language_info": {
   "codemirror_mode": "r",
   "file_extension": ".r",
   "mimetype": "text/x-r-source",
   "name": "R",
   "pygments_lexer": "r",
   "version": "4.1.3"
  }
 },
 "nbformat": 4,
 "nbformat_minor": 5
}
