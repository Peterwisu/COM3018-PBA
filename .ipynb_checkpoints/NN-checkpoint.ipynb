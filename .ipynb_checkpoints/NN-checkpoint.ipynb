{
 "cells": [
  {
   "cell_type": "code",
   "execution_count": 13,
   "id": "e25681da",
   "metadata": {},
   "outputs": [
    {
     "name": "stderr",
     "output_type": "stream",
     "text": [
      "Warning message in install.packages(\"e1071\"):\n",
      "“installation of package ‘e1071’ had non-zero exit status”\n",
      "Updating HTML index of packages in '.Library'\n",
      "\n",
      "Making 'packages.html' ...\n",
      " done\n",
      "\n"
     ]
    },
    {
     "data": {
      "text/html": [
       "<table class=\"dataframe\">\n",
       "<caption>A matrix: 2 × 6 of type dbl</caption>\n",
       "<thead>\n",
       "\t<tr><th></th><th scope=col>used</th><th scope=col>(Mb)</th><th scope=col>gc trigger</th><th scope=col>(Mb)</th><th scope=col>max used</th><th scope=col>(Mb)</th></tr>\n",
       "</thead>\n",
       "<tbody>\n",
       "\t<tr><th scope=row>Ncells</th><td> 2684794</td><td>143.4</td><td> 4480242</td><td>239.3</td><td> 4480242</td><td>239.3</td></tr>\n",
       "\t<tr><th scope=row>Vcells</th><td>10249103</td><td> 78.2</td><td>25842636</td><td>197.2</td><td>25841498</td><td>197.2</td></tr>\n",
       "</tbody>\n",
       "</table>\n"
      ],
      "text/latex": [
       "A matrix: 2 × 6 of type dbl\n",
       "\\begin{tabular}{r|llllll}\n",
       "  & used & (Mb) & gc trigger & (Mb) & max used & (Mb)\\\\\n",
       "\\hline\n",
       "\tNcells &  2684794 & 143.4 &  4480242 & 239.3 &  4480242 & 239.3\\\\\n",
       "\tVcells & 10249103 &  78.2 & 25842636 & 197.2 & 25841498 & 197.2\\\\\n",
       "\\end{tabular}\n"
      ],
      "text/markdown": [
       "\n",
       "A matrix: 2 × 6 of type dbl\n",
       "\n",
       "| <!--/--> | used | (Mb) | gc trigger | (Mb) | max used | (Mb) |\n",
       "|---|---|---|---|---|---|---|\n",
       "| Ncells |  2684794 | 143.4 |  4480242 | 239.3 |  4480242 | 239.3 |\n",
       "| Vcells | 10249103 |  78.2 | 25842636 | 197.2 | 25841498 | 197.2 |\n",
       "\n"
      ],
      "text/plain": [
       "       used     (Mb)  gc trigger (Mb)  max used (Mb) \n",
       "Ncells  2684794 143.4  4480242   239.3  4480242 239.3\n",
       "Vcells 10249103  78.2 25842636   197.2 25841498 197.2"
      ]
     },
     "metadata": {},
     "output_type": "display_data"
    },
    {
     "data": {
      "text/html": [
       "<strong>null device:</strong> 1"
      ],
      "text/latex": [
       "\\textbf{null device:} 1"
      ],
      "text/markdown": [
       "**null device:** 1"
      ],
      "text/plain": [
       "null device \n",
       "          1 "
      ]
     },
     "metadata": {},
     "output_type": "display_data"
    },
    {
     "name": "stdout",
     "output_type": "stream",
     "text": [
      "\f"
     ]
    }
   ],
   "source": [
    "source('functions.R')\n",
    "\n",
    "DATASET_FILENAME = './combined.csv'\n",
    "OUTPUT_FIELD = \"satisfactionv2\"\n",
    "\n",
    "MYLIBRARIES<-c(\"outliers\",\n",
    "               \"corrplot\",\n",
    "               \"formattable\",\n",
    "               \"stats\",\n",
    "               \"caret\",\n",
    "               \"PerformanceAnalytics\",\n",
    "               \"stringr\",\n",
    "               \"partykit\",\n",
    "               \"C50\",\n",
    "               \"randomForest\",\n",
    "               \"keras\",\n",
    "               \"h2o\",\n",
    "               \"mlbench\",\n",
    "                \"neuralnet\")\n",
    "library(pacman)\n",
    "pacman::p_load(char=MYLIBRARIES,install=TRUE,character.only=TRUE)\n",
    "\n",
    "install.packages('e1071')\n",
    "library(caret)\n",
    "library(e1071)\n",
    "library(randomForest)\n",
    "library(datasets)\n",
    "library(caret)\n",
    "library(mlbench)\n",
    "library(dplyr)\n",
    "library(magrittr)\n",
    "library(neuralnet)\n",
    "# ************************************************\n",
    "# This is where R starts execution\n",
    "\n",
    "# Automatically release memory\n",
    "gc()\n",
    "\n",
    "# Tries to clear plots and other graphics in RStudio output\n",
    "if(!is.null(dev.list())) dev.off()\n",
    "graphics.off()\n",
    "\n",
    "# This clears all warning messages\n",
    "#assign(\"last.warning\", NULL, envir = baseenv())\n",
    "\n",
    "# clears the RStudio console area\n",
    "cat(\"\\014\")\n",
    "\n",
    "# If library not already on your computer this will download and\n",
    "# install the library. Each library is activated.\n"
   ]
  },
  {
   "cell_type": "code",
   "execution_count": 14,
   "id": "d4bc444a",
   "metadata": {},
   "outputs": [
    {
     "name": "stdout",
     "output_type": "stream",
     "text": [
      "[1] \"CSV dataset processed.csv has been read. Records= 259760\"\n"
     ]
    }
   ],
   "source": [
    "OUTPUT_FIELD = \"satisfactionv2\"\n",
    "processed_training<- NreadDataset('processed.csv')\n",
    "\n",
    "# remmove unwanted fields\n",
    "p<-c(\"X\")#,\"DepartureDelayinMinutes0\" ,\"DepartureDelayinMinutes1\",\"DepartureDelayinMinutes2\",\"DepartureDelayinMinutes3\",\"ArrivalDelayinMinutes0\",\n",
    "   # \"ArrivalDelayinMinutes1\",\"ArrivalDelayinMinutes2\",\"ArrivalDelayinMinutes3\")\n",
    "\n",
    "processed_training<-processed_training[,names(processed_training [-which(names(processed_training)%in% p)])]\n",
    "\n",
    "select_field<-c('satisfactionv2',\n",
    "#                'Gender',\n",
    "                'CustomerType',\n",
    "#                 'TypeofTravel',\n",
    "#                 'ClassBusiness',\n",
    "#                 'ClassEco',\n",
    "#                 'ClassEcoPlus',\n",
    "#                 'DepartureDelayinMinutes0',\n",
    "#                 'DepartureDelayinMinutes1',\n",
    "#                 'DepartureDelayinMinutes2',\n",
    "#                 'DepartureDelayinMinutes3',\n",
    "#                 'ArrivalDelayinMinutes0',\n",
    "#                 'ArrivalDelayinMinutes1',\n",
    "#                 'ArrivalDelayinMinutes2',\n",
    "#                 'ArrivalDelayinMinutes3',\n",
    "#                 'Age',\n",
    "#                 'Seatcomfort',\n",
    "#                 'DepartureArrivaltimeconvenient',\n",
    "#                 'Foodanddrink',\n",
    "#                 'Gatelocation',\n",
    "#                 'Inflightwifiservice',\n",
    "#                 'Inflightentertainment',\n",
    "#                 'EaseofOnlinebooking',\n",
    "#                 'Onboardservice',\n",
    "#                 'Legroomservice',\n",
    "                'Baggagehandling',\n",
    "                'Checkinservice',\n",
    "                'Cleanliness',\n",
    "                'Onlineboarding')\n",
    "\n",
    "print(\"Select Fields\")\n",
    "print(select_field)\n",
    "\n",
    "processed_training<-processed_training[,select_field]\n",
    "processed_training<-processed_training[sample(nrow(processed_training)),]\n",
    "training_records<-round(nrow(processed_training)*(70/100))\n",
    "training_data <- processed_training[1:training_records,]\n",
    "testing_data <- processed_training[-(1:training_records),]\n",
    "\n",
    "print(paste(\"Number of Training\",nrow(training_data)))\n",
    "print(paste(\"Number of Testing\",nrow(testing_data)))\n"
   ]
  },
  {
   "cell_type": "code",
   "execution_count": 18,
   "id": "0c12a471",
   "metadata": {},
   "outputs": [],
   "source": [
    "# Function from lab\n",
    "myModelFormula<-function(dataset,fieldNameOutput,selectField){\n",
    "     \n",
    "  inputs<-paste(names(dataset)[which(names(dataset)!=fieldNameOutput )],collapse = \"+\")\n",
    "\n",
    "  output<-paste(fieldNameOutput,\"~\")\n",
    "\n",
    "  formular=as.formula(paste(output,inputs))\n",
    "\n",
    "  return(formular)\n",
    "\n",
    "} "
   ]
  },
  {
   "cell_type": "code",
   "execution_count": 20,
   "id": "8445a6d4",
   "metadata": {},
   "outputs": [
    {
     "data": {
      "text/plain": [
       "satisfactionv2 ~ Gender + CustomerType + TypeofTravel + ClassBusiness + \n",
       "    ClassEco + ClassEcoPlus + DepartureDelayinMinutes0 + DepartureDelayinMinutes1 + \n",
       "    DepartureDelayinMinutes2 + DepartureDelayinMinutes3 + ArrivalDelayinMinutes0 + \n",
       "    ArrivalDelayinMinutes1 + ArrivalDelayinMinutes2 + ArrivalDelayinMinutes3 + \n",
       "    Age + Seatcomfort + DepartureArrivaltimeconvenient + Foodanddrink + \n",
       "    Gatelocation + Inflightwifiservice + Inflightentertainment + \n",
       "    EaseofOnlinebooking + Onboardservice + Legroomservice + Baggagehandling + \n",
       "    Checkinservice + Cleanliness + Onlineboarding\n",
       "<environment: 0x562161dfc3e8>"
      ]
     },
     "metadata": {},
     "output_type": "display_data"
    }
   ],
   "source": [
    "formular <- myModelFormula(processed_training,OUTPUT_FIELD)\n",
    "formular"
   ]
  },
  {
   "cell_type": "code",
   "execution_count": 21,
   "id": "6eb7d2e6",
   "metadata": {},
   "outputs": [
    {
     "name": "stderr",
     "output_type": "stream",
     "text": [
      "hidden: 10, 5    thresh: 0.01    rep: 1/1    steps: \n"
     ]
    }
   ],
   "source": [
    "nn<-neuralnet(formular,\n",
    "              data=processed_training,\n",
    "              hidden= c(10,5), \n",
    "              linear.output = F,\n",
    "              lifesign= 'full',\n",
    "              rep=1)"
   ]
  },
  {
   "cell_type": "code",
   "execution_count": null,
   "id": "3a801b09",
   "metadata": {},
   "outputs": [],
   "source": [
    "plot(nn,\n",
    "     col.hidden = 'darkgreen',\n",
    "     col.hidden = 'darkgreen',\n",
    "     show.weights =F,\n",
    "     information = F,\n",
    "     fill = 'lightblue'\n",
    "    )"
   ]
  }
 ],
 "metadata": {
  "kernelspec": {
   "display_name": "R",
   "language": "R",
   "name": "ir"
  },
  "language_info": {
   "codemirror_mode": "r",
   "file_extension": ".r",
   "mimetype": "text/x-r-source",
   "name": "R",
   "pygments_lexer": "r",
   "version": "4.1.3"
  }
 },
 "nbformat": 4,
 "nbformat_minor": 5
}
