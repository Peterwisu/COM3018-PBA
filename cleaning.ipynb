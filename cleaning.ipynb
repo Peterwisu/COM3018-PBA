{
 "cells": [
  {
   "cell_type": "markdown",
   "id": "91dc68be",
   "metadata": {},
   "source": [
    "# Load Function from R scripts"
   ]
  },
  {
   "cell_type": "code",
   "execution_count": 1,
   "id": "8201e646",
   "metadata": {},
   "outputs": [],
   "source": [
    "source('functions.R')"
   ]
  },
  {
   "cell_type": "markdown",
   "id": "95fbe2e1",
   "metadata": {},
   "source": [
    "# Load Datasets"
   ]
  },
  {
   "cell_type": "code",
   "execution_count": 2,
   "id": "d2e78da0",
   "metadata": {},
   "outputs": [
    {
     "name": "stdout",
     "output_type": "stream",
     "text": [
      "[1] \"CSV dataset ./dataset/satisfaction.csv has been read. Records= 129880\"\n",
      "[1] \"CSV dataset ./dataset/satisfaction_2015.csv has been read. Records= 129880\"\n"
     ]
    }
   ],
   "source": [
    "dataset1<-NreadDataset('./dataset/satisfaction.csv')\n",
    "dataset2<-NreadDataset('./dataset/satisfaction_2015.csv')"
   ]
  },
  {
   "cell_type": "markdown",
   "id": "130ac13c",
   "metadata": {},
   "source": [
    "### Check the similar field of both dataset "
   ]
  },
  {
   "cell_type": "code",
   "execution_count": 3,
   "id": "d70db64b",
   "metadata": {},
   "outputs": [
    {
     "data": {
      "text/html": [
       "<style>\n",
       ".list-inline {list-style: none; margin:0; padding: 0}\n",
       ".list-inline>li {display: inline-block}\n",
       ".list-inline>li:not(:last-child)::after {content: \"\\00b7\"; padding: 0 .5ex}\n",
       "</style>\n",
       "<ol class=list-inline><li>'satisfactionv2'</li><li>'Gender'</li><li>'CustomerType'</li><li>'Age'</li><li>'TypeofTravel'</li><li>'Class'</li><li>'FlightDistance'</li><li>'Seatcomfort'</li><li>'DepartureArrivaltimeconvenient'</li><li>'Foodanddrink'</li><li>'Gatelocation'</li><li>'Inflightwifiservice'</li><li>'Inflightentertainment'</li><li>'Onlinesupport'</li><li>'EaseofOnlinebooking'</li><li>'Onboardservice'</li><li>'Legroomservice'</li><li>'Baggagehandling'</li><li>'Checkinservice'</li><li>'Cleanliness'</li><li>'Onlineboarding'</li><li>'DepartureDelayinMinutes'</li><li>'ArrivalDelayinMinutes'</li></ol>\n"
      ],
      "text/latex": [
       "\\begin{enumerate*}\n",
       "\\item 'satisfactionv2'\n",
       "\\item 'Gender'\n",
       "\\item 'CustomerType'\n",
       "\\item 'Age'\n",
       "\\item 'TypeofTravel'\n",
       "\\item 'Class'\n",
       "\\item 'FlightDistance'\n",
       "\\item 'Seatcomfort'\n",
       "\\item 'DepartureArrivaltimeconvenient'\n",
       "\\item 'Foodanddrink'\n",
       "\\item 'Gatelocation'\n",
       "\\item 'Inflightwifiservice'\n",
       "\\item 'Inflightentertainment'\n",
       "\\item 'Onlinesupport'\n",
       "\\item 'EaseofOnlinebooking'\n",
       "\\item 'Onboardservice'\n",
       "\\item 'Legroomservice'\n",
       "\\item 'Baggagehandling'\n",
       "\\item 'Checkinservice'\n",
       "\\item 'Cleanliness'\n",
       "\\item 'Onlineboarding'\n",
       "\\item 'DepartureDelayinMinutes'\n",
       "\\item 'ArrivalDelayinMinutes'\n",
       "\\end{enumerate*}\n"
      ],
      "text/markdown": [
       "1. 'satisfactionv2'\n",
       "2. 'Gender'\n",
       "3. 'CustomerType'\n",
       "4. 'Age'\n",
       "5. 'TypeofTravel'\n",
       "6. 'Class'\n",
       "7. 'FlightDistance'\n",
       "8. 'Seatcomfort'\n",
       "9. 'DepartureArrivaltimeconvenient'\n",
       "10. 'Foodanddrink'\n",
       "11. 'Gatelocation'\n",
       "12. 'Inflightwifiservice'\n",
       "13. 'Inflightentertainment'\n",
       "14. 'Onlinesupport'\n",
       "15. 'EaseofOnlinebooking'\n",
       "16. 'Onboardservice'\n",
       "17. 'Legroomservice'\n",
       "18. 'Baggagehandling'\n",
       "19. 'Checkinservice'\n",
       "20. 'Cleanliness'\n",
       "21. 'Onlineboarding'\n",
       "22. 'DepartureDelayinMinutes'\n",
       "23. 'ArrivalDelayinMinutes'\n",
       "\n",
       "\n"
      ],
      "text/plain": [
       " [1] \"satisfactionv2\"                 \"Gender\"                        \n",
       " [3] \"CustomerType\"                   \"Age\"                           \n",
       " [5] \"TypeofTravel\"                   \"Class\"                         \n",
       " [7] \"FlightDistance\"                 \"Seatcomfort\"                   \n",
       " [9] \"DepartureArrivaltimeconvenient\" \"Foodanddrink\"                  \n",
       "[11] \"Gatelocation\"                   \"Inflightwifiservice\"           \n",
       "[13] \"Inflightentertainment\"          \"Onlinesupport\"                 \n",
       "[15] \"EaseofOnlinebooking\"            \"Onboardservice\"                \n",
       "[17] \"Legroomservice\"                 \"Baggagehandling\"               \n",
       "[19] \"Checkinservice\"                 \"Cleanliness\"                   \n",
       "[21] \"Onlineboarding\"                 \"DepartureDelayinMinutes\"       \n",
       "[23] \"ArrivalDelayinMinutes\"         "
      ]
     },
     "metadata": {},
     "output_type": "display_data"
    },
    {
     "data": {
      "text/html": [
       "<style>\n",
       ".list-inline {list-style: none; margin:0; padding: 0}\n",
       ".list-inline>li {display: inline-block}\n",
       ".list-inline>li:not(:last-child)::after {content: \"\\00b7\"; padding: 0 .5ex}\n",
       "</style>\n",
       "<ol class=list-inline><li>'satisfactionv2'</li><li>'Gender'</li><li>'CustomerType'</li><li>'Age'</li><li>'TypeofTravel'</li><li>'Class'</li><li>'FlightDistance'</li><li>'Inflightwifiservice'</li><li>'DepartureArrivaltimeconvenient'</li><li>'EaseofOnlinebooking'</li><li>'Gatelocation'</li><li>'Foodanddrink'</li><li>'Onlineboarding'</li><li>'Seatcomfort'</li><li>'Inflightentertainment'</li><li>'Onboardservice'</li><li>'Legroomservice'</li><li>'Baggagehandling'</li><li>'Checkinservice'</li><li>'Inflightservice'</li><li>'Cleanliness'</li><li>'DepartureDelayinMinutes'</li><li>'ArrivalDelayinMinutes'</li></ol>\n"
      ],
      "text/latex": [
       "\\begin{enumerate*}\n",
       "\\item 'satisfactionv2'\n",
       "\\item 'Gender'\n",
       "\\item 'CustomerType'\n",
       "\\item 'Age'\n",
       "\\item 'TypeofTravel'\n",
       "\\item 'Class'\n",
       "\\item 'FlightDistance'\n",
       "\\item 'Inflightwifiservice'\n",
       "\\item 'DepartureArrivaltimeconvenient'\n",
       "\\item 'EaseofOnlinebooking'\n",
       "\\item 'Gatelocation'\n",
       "\\item 'Foodanddrink'\n",
       "\\item 'Onlineboarding'\n",
       "\\item 'Seatcomfort'\n",
       "\\item 'Inflightentertainment'\n",
       "\\item 'Onboardservice'\n",
       "\\item 'Legroomservice'\n",
       "\\item 'Baggagehandling'\n",
       "\\item 'Checkinservice'\n",
       "\\item 'Inflightservice'\n",
       "\\item 'Cleanliness'\n",
       "\\item 'DepartureDelayinMinutes'\n",
       "\\item 'ArrivalDelayinMinutes'\n",
       "\\end{enumerate*}\n"
      ],
      "text/markdown": [
       "1. 'satisfactionv2'\n",
       "2. 'Gender'\n",
       "3. 'CustomerType'\n",
       "4. 'Age'\n",
       "5. 'TypeofTravel'\n",
       "6. 'Class'\n",
       "7. 'FlightDistance'\n",
       "8. 'Inflightwifiservice'\n",
       "9. 'DepartureArrivaltimeconvenient'\n",
       "10. 'EaseofOnlinebooking'\n",
       "11. 'Gatelocation'\n",
       "12. 'Foodanddrink'\n",
       "13. 'Onlineboarding'\n",
       "14. 'Seatcomfort'\n",
       "15. 'Inflightentertainment'\n",
       "16. 'Onboardservice'\n",
       "17. 'Legroomservice'\n",
       "18. 'Baggagehandling'\n",
       "19. 'Checkinservice'\n",
       "20. 'Inflightservice'\n",
       "21. 'Cleanliness'\n",
       "22. 'DepartureDelayinMinutes'\n",
       "23. 'ArrivalDelayinMinutes'\n",
       "\n",
       "\n"
      ],
      "text/plain": [
       " [1] \"satisfactionv2\"                 \"Gender\"                        \n",
       " [3] \"CustomerType\"                   \"Age\"                           \n",
       " [5] \"TypeofTravel\"                   \"Class\"                         \n",
       " [7] \"FlightDistance\"                 \"Inflightwifiservice\"           \n",
       " [9] \"DepartureArrivaltimeconvenient\" \"EaseofOnlinebooking\"           \n",
       "[11] \"Gatelocation\"                   \"Foodanddrink\"                  \n",
       "[13] \"Onlineboarding\"                 \"Seatcomfort\"                   \n",
       "[15] \"Inflightentertainment\"          \"Onboardservice\"                \n",
       "[17] \"Legroomservice\"                 \"Baggagehandling\"               \n",
       "[19] \"Checkinservice\"                 \"Inflightservice\"               \n",
       "[21] \"Cleanliness\"                    \"DepartureDelayinMinutes\"       \n",
       "[23] \"ArrivalDelayinMinutes\"         "
      ]
     },
     "metadata": {},
     "output_type": "display_data"
    }
   ],
   "source": [
    "\n",
    "# remove ID field\n",
    "required_cols1<-!names(dataset1)%in%c(\"id\")\n",
    "required_cols2<-!names(dataset2)%in%c(\"id\")\n",
    "\n",
    "dataset1<-dataset1[,required_cols1]\n",
    "dataset2<-dataset2[,required_cols2]\n",
    "names(dataset1)\n",
    "names(dataset2)"
   ]
  },
  {
   "cell_type": "markdown",
   "id": "d7f9fbb8",
   "metadata": {},
   "source": [
    "## Check different in both Dataframe"
   ]
  },
  {
   "cell_type": "code",
   "execution_count": 4,
   "id": "c0482284",
   "metadata": {},
   "outputs": [
    {
     "data": {
      "text/html": [
       "'Onlinesupport'"
      ],
      "text/latex": [
       "'Onlinesupport'"
      ],
      "text/markdown": [
       "'Onlinesupport'"
      ],
      "text/plain": [
       "[1] \"Onlinesupport\""
      ]
     },
     "metadata": {},
     "output_type": "display_data"
    },
    {
     "data": {
      "text/html": [
       "'Inflightservice'"
      ],
      "text/latex": [
       "'Inflightservice'"
      ],
      "text/markdown": [
       "'Inflightservice'"
      ],
      "text/plain": [
       "[1] \"Inflightservice\""
      ]
     },
     "metadata": {},
     "output_type": "display_data"
    }
   ],
   "source": [
    "# Field that dataset 1 have but dataset 2 doesnt have\n",
    "names(dataset1)[-which(names(dataset1) %in% names(dataset2))]\n",
    "\n",
    "# Field that dataset 2 have but dataset 1 doesnt have \n",
    "names(dataset2)[-which(names(dataset2) %in% names(dataset1))]"
   ]
  },
  {
   "cell_type": "markdown",
   "id": "492abf78",
   "metadata": {},
   "source": [
    "### Field a different with NA"
   ]
  },
  {
   "cell_type": "code",
   "execution_count": 5,
   "id": "9df64d8e",
   "metadata": {},
   "outputs": [],
   "source": [
    "dataset1[setdiff(names(dataset2), names(dataset1))] <- NA\n",
    "dataset2[setdiff(names(dataset1), names(dataset2))] <- NA"
   ]
  },
  {
   "cell_type": "code",
   "execution_count": 6,
   "id": "e1253e1b",
   "metadata": {},
   "outputs": [],
   "source": [
    "# combine both tables\n",
    "combined<-rbind(dataset1, dataset2)"
   ]
  },
  {
   "cell_type": "code",
   "execution_count": 14,
   "id": "5675410c",
   "metadata": {},
   "outputs": [
    {
     "data": {
      "text/html": [
       "259760"
      ],
      "text/latex": [
       "259760"
      ],
      "text/markdown": [
       "259760"
      ],
      "text/plain": [
       "[1] 259760"
      ]
     },
     "metadata": {},
     "output_type": "display_data"
    }
   ],
   "source": [
    "nrow(combined)"
   ]
  },
  {
   "cell_type": "code",
   "execution_count": 8,
   "id": "450d0534",
   "metadata": {},
   "outputs": [
    {
     "data": {
      "text/plain": [
       " satisfactionv2        Gender          CustomerType            Age       \n",
       " Length:259760      Length:259760      Length:259760      Min.   : 7.00  \n",
       " Class :character   Class :character   Class :character   1st Qu.:27.00  \n",
       " Mode  :character   Mode  :character   Mode  :character   Median :40.00  \n",
       "                                                          Mean   :39.43  \n",
       "                                                          3rd Qu.:51.00  \n",
       "                                                          Max.   :85.00  \n",
       "                                                                         \n",
       " TypeofTravel          Class           FlightDistance  Seatcomfort  \n",
       " Length:259760      Length:259760      Min.   :  31   Min.   :0.00  \n",
       " Class :character   Class :character   1st Qu.: 606   1st Qu.:2.00  \n",
       " Mode  :character   Mode  :character   Median :1510   Median :3.00  \n",
       "                                       Mean   :1586   Mean   :3.14  \n",
       "                                       3rd Qu.:2297   3rd Qu.:4.00  \n",
       "                                       Max.   :6951   Max.   :5.00  \n",
       "                                                                    \n",
       " DepartureArrivaltimeconvenient  Foodanddrink    Gatelocation  \n",
       " Min.   :0.000                  Min.   :0.000   Min.   :0.000  \n",
       " 1st Qu.:2.000                  1st Qu.:2.000   1st Qu.:2.000  \n",
       " Median :3.000                  Median :3.000   Median :3.000  \n",
       " Mean   :3.024                  Mean   :3.028   Mean   :2.984  \n",
       " 3rd Qu.:4.000                  3rd Qu.:4.000   3rd Qu.:4.000  \n",
       " Max.   :5.000                  Max.   :5.000   Max.   :5.000  \n",
       "                                                               \n",
       " Inflightwifiservice Inflightentertainment Onlinesupport    EaseofOnlinebooking\n",
       " Min.   :0.000       Min.   :0.000         Min.   :0.00     Min.   :0.000      \n",
       " 1st Qu.:2.000       1st Qu.:2.000         1st Qu.:3.00     1st Qu.:2.000      \n",
       " Median :3.000       Median :4.000         Median :4.00     Median :3.000      \n",
       " Mean   :2.989       Mean   :3.371         Mean   :3.52     Mean   :3.114      \n",
       " 3rd Qu.:4.000       3rd Qu.:4.000         3rd Qu.:5.00     3rd Qu.:4.000      \n",
       " Max.   :5.000       Max.   :5.000         Max.   :5.00     Max.   :5.000      \n",
       "                                           NA's   :129880                      \n",
       " Onboardservice  Legroomservice  Baggagehandling Checkinservice \n",
       " Min.   :0.000   Min.   :0.000   Min.   :1.000   Min.   :0.000  \n",
       " 1st Qu.:3.000   1st Qu.:2.000   1st Qu.:3.000   1st Qu.:3.000  \n",
       " Median :4.000   Median :4.000   Median :4.000   Median :3.000  \n",
       " Mean   :3.424   Mean   :3.418   Mean   :3.664   Mean   :3.324  \n",
       " 3rd Qu.:4.000   3rd Qu.:5.000   3rd Qu.:5.000   3rd Qu.:4.000  \n",
       " Max.   :5.000   Max.   :5.000   Max.   :5.000   Max.   :5.000  \n",
       "                                                                \n",
       "  Cleanliness    Onlineboarding  DepartureDelayinMinutes ArrivalDelayinMinutes\n",
       " Min.   :0.000   Min.   :0.000   Min.   :   0.00         Min.   :   0.00      \n",
       " 1st Qu.:3.000   1st Qu.:2.000   1st Qu.:   0.00         1st Qu.:   0.00      \n",
       " Median :4.000   Median :3.000   Median :   0.00         Median :   0.00      \n",
       " Mean   :3.496   Mean   :3.303   Mean   :  14.71         Mean   :  15.09      \n",
       " 3rd Qu.:4.000   3rd Qu.:4.000   3rd Qu.:  12.00         3rd Qu.:  13.00      \n",
       " Max.   :5.000   Max.   :5.000   Max.   :1592.00         Max.   :1584.00      \n",
       "                                                         NA's   :786          \n",
       " Inflightservice \n",
       " Min.   :0.00    \n",
       " 1st Qu.:3.00    \n",
       " Median :4.00    \n",
       " Mean   :3.64    \n",
       " 3rd Qu.:5.00    \n",
       " Max.   :5.00    \n",
       " NA's   :129880  "
      ]
     },
     "metadata": {},
     "output_type": "display_data"
    }
   ],
   "source": [
    "summary(combined)"
   ]
  },
  {
   "cell_type": "markdown",
   "id": "2fd5a64a",
   "metadata": {},
   "source": [
    "### Remove unwatned fields\n",
    "\n",
    "conda install -c conda-forge r-dmwr"
   ]
  },
  {
   "cell_type": "code",
   "execution_count": 9,
   "id": "3278a75e",
   "metadata": {},
   "outputs": [],
   "source": [
    "#remove colums which field which have more that 50 % is NA value. Inflightservice and Onlinesupport\n",
    "\n",
    "combined<-combined[, -which(names(combined) %in% c('Inflightservice','Onlinesupport'))]"
   ]
  },
  {
   "cell_type": "code",
   "execution_count": 10,
   "id": "7192c6dd",
   "metadata": {},
   "outputs": [
    {
     "data": {
      "text/plain": [
       " satisfactionv2        Gender          CustomerType            Age       \n",
       " Length:259760      Length:259760      Length:259760      Min.   : 7.00  \n",
       " Class :character   Class :character   Class :character   1st Qu.:27.00  \n",
       " Mode  :character   Mode  :character   Mode  :character   Median :40.00  \n",
       "                                                          Mean   :39.43  \n",
       "                                                          3rd Qu.:51.00  \n",
       "                                                          Max.   :85.00  \n",
       "                                                                         \n",
       " TypeofTravel          Class           FlightDistance  Seatcomfort  \n",
       " Length:259760      Length:259760      Min.   :  31   Min.   :0.00  \n",
       " Class :character   Class :character   1st Qu.: 606   1st Qu.:2.00  \n",
       " Mode  :character   Mode  :character   Median :1510   Median :3.00  \n",
       "                                       Mean   :1586   Mean   :3.14  \n",
       "                                       3rd Qu.:2297   3rd Qu.:4.00  \n",
       "                                       Max.   :6951   Max.   :5.00  \n",
       "                                                                    \n",
       " DepartureArrivaltimeconvenient  Foodanddrink    Gatelocation  \n",
       " Min.   :0.000                  Min.   :0.000   Min.   :0.000  \n",
       " 1st Qu.:2.000                  1st Qu.:2.000   1st Qu.:2.000  \n",
       " Median :3.000                  Median :3.000   Median :3.000  \n",
       " Mean   :3.024                  Mean   :3.028   Mean   :2.984  \n",
       " 3rd Qu.:4.000                  3rd Qu.:4.000   3rd Qu.:4.000  \n",
       " Max.   :5.000                  Max.   :5.000   Max.   :5.000  \n",
       "                                                               \n",
       " Inflightwifiservice Inflightentertainment EaseofOnlinebooking Onboardservice \n",
       " Min.   :0.000       Min.   :0.000         Min.   :0.000       Min.   :0.000  \n",
       " 1st Qu.:2.000       1st Qu.:2.000         1st Qu.:2.000       1st Qu.:3.000  \n",
       " Median :3.000       Median :4.000         Median :3.000       Median :4.000  \n",
       " Mean   :2.989       Mean   :3.371         Mean   :3.114       Mean   :3.424  \n",
       " 3rd Qu.:4.000       3rd Qu.:4.000         3rd Qu.:4.000       3rd Qu.:4.000  \n",
       " Max.   :5.000       Max.   :5.000         Max.   :5.000       Max.   :5.000  \n",
       "                                                                              \n",
       " Legroomservice  Baggagehandling Checkinservice   Cleanliness   \n",
       " Min.   :0.000   Min.   :1.000   Min.   :0.000   Min.   :0.000  \n",
       " 1st Qu.:2.000   1st Qu.:3.000   1st Qu.:3.000   1st Qu.:3.000  \n",
       " Median :4.000   Median :4.000   Median :3.000   Median :4.000  \n",
       " Mean   :3.418   Mean   :3.664   Mean   :3.324   Mean   :3.496  \n",
       " 3rd Qu.:5.000   3rd Qu.:5.000   3rd Qu.:4.000   3rd Qu.:4.000  \n",
       " Max.   :5.000   Max.   :5.000   Max.   :5.000   Max.   :5.000  \n",
       "                                                                \n",
       " Onlineboarding  DepartureDelayinMinutes ArrivalDelayinMinutes\n",
       " Min.   :0.000   Min.   :   0.00         Min.   :   0.00      \n",
       " 1st Qu.:2.000   1st Qu.:   0.00         1st Qu.:   0.00      \n",
       " Median :3.000   Median :   0.00         Median :   0.00      \n",
       " Mean   :3.303   Mean   :  14.71         Mean   :  15.09      \n",
       " 3rd Qu.:4.000   3rd Qu.:  12.00         3rd Qu.:  13.00      \n",
       " Max.   :5.000   Max.   :1592.00         Max.   :1584.00      \n",
       "                                         NA's   :786          "
      ]
     },
     "metadata": {},
     "output_type": "display_data"
    }
   ],
   "source": [
    "summary(combined)"
   ]
  },
  {
   "cell_type": "code",
   "execution_count": 11,
   "id": "360c18b4",
   "metadata": {},
   "outputs": [],
   "source": [
    "# Filling a Null value with median value of that field which is 0\n",
    "# the reseason of choosing median over mean of the field to prevent a chance of creating new outlier\n",
    "combined$ArrivalDelayinMinutes[is.na(combined$ArrivalDelayinMinutes)] <- 0 "
   ]
  },
  {
   "cell_type": "code",
   "execution_count": 12,
   "id": "dd8eb8e1",
   "metadata": {},
   "outputs": [
    {
     "data": {
      "text/html": [
       "<style>\n",
       ".dl-inline {width: auto; margin:0; padding: 0}\n",
       ".dl-inline>dt, .dl-inline>dd {float: none; width: auto; display: inline-block}\n",
       ".dl-inline>dt::after {content: \":\\0020\"; padding-right: .5ex}\n",
       ".dl-inline>dt:not(:first-of-type) {padding-left: .5ex}\n",
       "</style><dl class=dl-inline><dt>1</dt><dd><span style=white-space:pre-wrap>'Min.   :   0.00  '</span></dd><dt>2</dt><dd><span style=white-space:pre-wrap>'1st Qu.:   0.00  '</span></dd><dt>3</dt><dd><span style=white-space:pre-wrap>'Median :   0.00  '</span></dd><dt>4</dt><dd><span style=white-space:pre-wrap>'Mean   :  15.05  '</span></dd><dt>5</dt><dd><span style=white-space:pre-wrap>'3rd Qu.:  13.00  '</span></dd><dt>6</dt><dd><span style=white-space:pre-wrap>'Max.   :1584.00  '</span></dd></dl>\n"
      ],
      "text/latex": [
       "\\begin{description*}\n",
       "\\item[1] 'Min.   :   0.00  '\n",
       "\\item[2] '1st Qu.:   0.00  '\n",
       "\\item[3] 'Median :   0.00  '\n",
       "\\item[4] 'Mean   :  15.05  '\n",
       "\\item[5] '3rd Qu.:  13.00  '\n",
       "\\item[6] 'Max.   :1584.00  '\n",
       "\\end{description*}\n"
      ],
      "text/markdown": [
       "1\n",
       ":   <span style=white-space:pre-wrap>'Min.   :   0.00  '</span>2\n",
       ":   <span style=white-space:pre-wrap>'1st Qu.:   0.00  '</span>3\n",
       ":   <span style=white-space:pre-wrap>'Median :   0.00  '</span>4\n",
       ":   <span style=white-space:pre-wrap>'Mean   :  15.05  '</span>5\n",
       ":   <span style=white-space:pre-wrap>'3rd Qu.:  13.00  '</span>6\n",
       ":   <span style=white-space:pre-wrap>'Max.   :1584.00  '</span>\n",
       "\n"
      ],
      "text/plain": [
       "                                                                                \n",
       "\"Min.   :   0.00  \" \"1st Qu.:   0.00  \" \"Median :   0.00  \" \"Mean   :  15.05  \" \n",
       "                                        \n",
       "\"3rd Qu.:  13.00  \" \"Max.   :1584.00  \" "
      ]
     },
     "metadata": {},
     "output_type": "display_data"
    }
   ],
   "source": [
    "summary(combined)[,'ArrivalDelayinMinutes']"
   ]
  },
  {
   "cell_type": "code",
   "execution_count": 13,
   "id": "84974937",
   "metadata": {},
   "outputs": [],
   "source": [
    "write.csv(combined,'./combined.csv')"
   ]
  },
  {
   "cell_type": "code",
   "execution_count": null,
   "id": "7f4c2a63",
   "metadata": {},
   "outputs": [],
   "source": []
  }
 ],
 "metadata": {
  "kernelspec": {
   "display_name": "R",
   "language": "R",
   "name": "ir"
  },
  "language_info": {
   "codemirror_mode": "r",
   "file_extension": ".r",
   "mimetype": "text/x-r-source",
   "name": "R",
   "pygments_lexer": "r",
   "version": "4.1.3"
  }
 },
 "nbformat": 4,
 "nbformat_minor": 5
}
