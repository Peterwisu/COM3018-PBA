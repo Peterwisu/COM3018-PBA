{
 "cells": [
  {
   "cell_type": "code",
   "execution_count": 1,
   "id": "be95da0d",
   "metadata": {},
   "outputs": [],
   "source": [
    "source(\"functions.R\")"
   ]
  },
  {
   "cell_type": "code",
   "execution_count": 2,
   "id": "def88e73",
   "metadata": {},
   "outputs": [
    {
     "name": "stderr",
     "output_type": "stream",
     "text": [
      "Updating HTML index of packages in '.Library'\n",
      "\n",
      "Making 'packages.html' ...\n",
      " done\n",
      "\n"
     ]
    }
   ],
   "source": [
    "install.packages(\"pacman\")"
   ]
  },
  {
   "cell_type": "code",
   "execution_count": 3,
   "id": "23f30c49",
   "metadata": {},
   "outputs": [
    {
     "name": "stdout",
     "output_type": "stream",
     "text": [
      "[1] \"CSV dataset ./dataset/satisfaction.csv has been read. Records= 129880\"\n",
      "[1] \"CSV dataset ./train.csv has been read. Records= 103904\"\n",
      "[1] \"CSV dataset ./test.csv has been read. Records= 25976\"\n"
     ]
    }
   ],
   "source": [
    "unclean_dataset<-NreadDataset('./dataset/satisfaction.csv')\n",
    "clean_tr <- NreadDataset('./train.csv')\n",
    "clean_te<- NreadDataset('./test.csv')\n",
    "clean_dataset<-rbind(clean_tr,clean_te)"
   ]
  },
  {
   "cell_type": "code",
   "execution_count": 4,
   "id": "f958e1db",
   "metadata": {},
   "outputs": [
    {
     "data": {
      "text/html": [
       "<style>\n",
       ".list-inline {list-style: none; margin:0; padding: 0}\n",
       ".list-inline>li {display: inline-block}\n",
       ".list-inline>li:not(:last-child)::after {content: \"\\00b7\"; padding: 0 .5ex}\n",
       "</style>\n",
       "<ol class=list-inline><li>'id'</li><li>'satisfactionv2'</li><li>'Gender'</li><li>'CustomerType'</li><li>'Age'</li><li>'TypeofTravel'</li><li>'Class'</li><li>'FlightDistance'</li><li>'Seatcomfort'</li><li>'DepartureArrivaltimeconvenient'</li><li>'Foodanddrink'</li><li>'Gatelocation'</li><li>'Inflightwifiservice'</li><li>'Inflightentertainment'</li><li>'Onlinesupport'</li><li>'EaseofOnlinebooking'</li><li>'Onboardservice'</li><li>'Legroomservice'</li><li>'Baggagehandling'</li><li>'Checkinservice'</li><li>'Cleanliness'</li><li>'Onlineboarding'</li><li>'DepartureDelayinMinutes'</li><li>'ArrivalDelayinMinutes'</li></ol>\n"
      ],
      "text/latex": [
       "\\begin{enumerate*}\n",
       "\\item 'id'\n",
       "\\item 'satisfactionv2'\n",
       "\\item 'Gender'\n",
       "\\item 'CustomerType'\n",
       "\\item 'Age'\n",
       "\\item 'TypeofTravel'\n",
       "\\item 'Class'\n",
       "\\item 'FlightDistance'\n",
       "\\item 'Seatcomfort'\n",
       "\\item 'DepartureArrivaltimeconvenient'\n",
       "\\item 'Foodanddrink'\n",
       "\\item 'Gatelocation'\n",
       "\\item 'Inflightwifiservice'\n",
       "\\item 'Inflightentertainment'\n",
       "\\item 'Onlinesupport'\n",
       "\\item 'EaseofOnlinebooking'\n",
       "\\item 'Onboardservice'\n",
       "\\item 'Legroomservice'\n",
       "\\item 'Baggagehandling'\n",
       "\\item 'Checkinservice'\n",
       "\\item 'Cleanliness'\n",
       "\\item 'Onlineboarding'\n",
       "\\item 'DepartureDelayinMinutes'\n",
       "\\item 'ArrivalDelayinMinutes'\n",
       "\\end{enumerate*}\n"
      ],
      "text/markdown": [
       "1. 'id'\n",
       "2. 'satisfactionv2'\n",
       "3. 'Gender'\n",
       "4. 'CustomerType'\n",
       "5. 'Age'\n",
       "6. 'TypeofTravel'\n",
       "7. 'Class'\n",
       "8. 'FlightDistance'\n",
       "9. 'Seatcomfort'\n",
       "10. 'DepartureArrivaltimeconvenient'\n",
       "11. 'Foodanddrink'\n",
       "12. 'Gatelocation'\n",
       "13. 'Inflightwifiservice'\n",
       "14. 'Inflightentertainment'\n",
       "15. 'Onlinesupport'\n",
       "16. 'EaseofOnlinebooking'\n",
       "17. 'Onboardservice'\n",
       "18. 'Legroomservice'\n",
       "19. 'Baggagehandling'\n",
       "20. 'Checkinservice'\n",
       "21. 'Cleanliness'\n",
       "22. 'Onlineboarding'\n",
       "23. 'DepartureDelayinMinutes'\n",
       "24. 'ArrivalDelayinMinutes'\n",
       "\n",
       "\n"
      ],
      "text/plain": [
       " [1] \"id\"                             \"satisfactionv2\"                \n",
       " [3] \"Gender\"                         \"CustomerType\"                  \n",
       " [5] \"Age\"                            \"TypeofTravel\"                  \n",
       " [7] \"Class\"                          \"FlightDistance\"                \n",
       " [9] \"Seatcomfort\"                    \"DepartureArrivaltimeconvenient\"\n",
       "[11] \"Foodanddrink\"                   \"Gatelocation\"                  \n",
       "[13] \"Inflightwifiservice\"            \"Inflightentertainment\"         \n",
       "[15] \"Onlinesupport\"                  \"EaseofOnlinebooking\"           \n",
       "[17] \"Onboardservice\"                 \"Legroomservice\"                \n",
       "[19] \"Baggagehandling\"                \"Checkinservice\"                \n",
       "[21] \"Cleanliness\"                    \"Onlineboarding\"                \n",
       "[23] \"DepartureDelayinMinutes\"        \"ArrivalDelayinMinutes\"         "
      ]
     },
     "metadata": {},
     "output_type": "display_data"
    },
    {
     "data": {
      "text/html": [
       "<style>\n",
       ".list-inline {list-style: none; margin:0; padding: 0}\n",
       ".list-inline>li {display: inline-block}\n",
       ".list-inline>li:not(:last-child)::after {content: \"\\00b7\"; padding: 0 .5ex}\n",
       "</style>\n",
       "<ol class=list-inline><li>'X'</li><li>'id'</li><li>'Gender'</li><li>'CustomerType'</li><li>'Age'</li><li>'TypeofTravel'</li><li>'Class'</li><li>'FlightDistance'</li><li>'Inflightwifiservice'</li><li>'DepartureArrivaltimeconvenient'</li><li>'EaseofOnlinebooking'</li><li>'Gatelocation'</li><li>'Foodanddrink'</li><li>'Onlineboarding'</li><li>'Seatcomfort'</li><li>'Inflightentertainment'</li><li>'Onboardservice'</li><li>'Legroomservice'</li><li>'Baggagehandling'</li><li>'Checkinservice'</li><li>'Inflightservice'</li><li>'Cleanliness'</li><li>'DepartureDelayinMinutes'</li><li>'ArrivalDelayinMinutes'</li><li>'satisfaction'</li></ol>\n"
      ],
      "text/latex": [
       "\\begin{enumerate*}\n",
       "\\item 'X'\n",
       "\\item 'id'\n",
       "\\item 'Gender'\n",
       "\\item 'CustomerType'\n",
       "\\item 'Age'\n",
       "\\item 'TypeofTravel'\n",
       "\\item 'Class'\n",
       "\\item 'FlightDistance'\n",
       "\\item 'Inflightwifiservice'\n",
       "\\item 'DepartureArrivaltimeconvenient'\n",
       "\\item 'EaseofOnlinebooking'\n",
       "\\item 'Gatelocation'\n",
       "\\item 'Foodanddrink'\n",
       "\\item 'Onlineboarding'\n",
       "\\item 'Seatcomfort'\n",
       "\\item 'Inflightentertainment'\n",
       "\\item 'Onboardservice'\n",
       "\\item 'Legroomservice'\n",
       "\\item 'Baggagehandling'\n",
       "\\item 'Checkinservice'\n",
       "\\item 'Inflightservice'\n",
       "\\item 'Cleanliness'\n",
       "\\item 'DepartureDelayinMinutes'\n",
       "\\item 'ArrivalDelayinMinutes'\n",
       "\\item 'satisfaction'\n",
       "\\end{enumerate*}\n"
      ],
      "text/markdown": [
       "1. 'X'\n",
       "2. 'id'\n",
       "3. 'Gender'\n",
       "4. 'CustomerType'\n",
       "5. 'Age'\n",
       "6. 'TypeofTravel'\n",
       "7. 'Class'\n",
       "8. 'FlightDistance'\n",
       "9. 'Inflightwifiservice'\n",
       "10. 'DepartureArrivaltimeconvenient'\n",
       "11. 'EaseofOnlinebooking'\n",
       "12. 'Gatelocation'\n",
       "13. 'Foodanddrink'\n",
       "14. 'Onlineboarding'\n",
       "15. 'Seatcomfort'\n",
       "16. 'Inflightentertainment'\n",
       "17. 'Onboardservice'\n",
       "18. 'Legroomservice'\n",
       "19. 'Baggagehandling'\n",
       "20. 'Checkinservice'\n",
       "21. 'Inflightservice'\n",
       "22. 'Cleanliness'\n",
       "23. 'DepartureDelayinMinutes'\n",
       "24. 'ArrivalDelayinMinutes'\n",
       "25. 'satisfaction'\n",
       "\n",
       "\n"
      ],
      "text/plain": [
       " [1] \"X\"                              \"id\"                            \n",
       " [3] \"Gender\"                         \"CustomerType\"                  \n",
       " [5] \"Age\"                            \"TypeofTravel\"                  \n",
       " [7] \"Class\"                          \"FlightDistance\"                \n",
       " [9] \"Inflightwifiservice\"            \"DepartureArrivaltimeconvenient\"\n",
       "[11] \"EaseofOnlinebooking\"            \"Gatelocation\"                  \n",
       "[13] \"Foodanddrink\"                   \"Onlineboarding\"                \n",
       "[15] \"Seatcomfort\"                    \"Inflightentertainment\"         \n",
       "[17] \"Onboardservice\"                 \"Legroomservice\"                \n",
       "[19] \"Baggagehandling\"                \"Checkinservice\"                \n",
       "[21] \"Inflightservice\"                \"Cleanliness\"                   \n",
       "[23] \"DepartureDelayinMinutes\"        \"ArrivalDelayinMinutes\"         \n",
       "[25] \"satisfaction\"                  "
      ]
     },
     "metadata": {},
     "output_type": "display_data"
    }
   ],
   "source": [
    "names(unclean_dataset)\n",
    "names(clean_dataset)\n",
    "unclean<-unclean_dataset[,-which(names(unclean_dataset) %in% c(\"id\"))]\n",
    "clean<-clean_dataset[,-which(names(clean_dataset) %in% c(\"X\",\"id\"))]"
   ]
  },
  {
   "cell_type": "code",
   "execution_count": 5,
   "id": "641623e4",
   "metadata": {},
   "outputs": [
    {
     "data": {
      "text/html": [
       "23"
      ],
      "text/latex": [
       "23"
      ],
      "text/markdown": [
       "23"
      ],
      "text/plain": [
       "[1] 23"
      ]
     },
     "metadata": {},
     "output_type": "display_data"
    },
    {
     "data": {
      "text/html": [
       "23"
      ],
      "text/latex": [
       "23"
      ],
      "text/markdown": [
       "23"
      ],
      "text/plain": [
       "[1] 23"
      ]
     },
     "metadata": {},
     "output_type": "display_data"
    },
    {
     "data": {
      "text/html": [
       "129880"
      ],
      "text/latex": [
       "129880"
      ],
      "text/markdown": [
       "129880"
      ],
      "text/plain": [
       "[1] 129880"
      ]
     },
     "metadata": {},
     "output_type": "display_data"
    },
    {
     "data": {
      "text/html": [
       "129880"
      ],
      "text/latex": [
       "129880"
      ],
      "text/markdown": [
       "129880"
      ],
      "text/plain": [
       "[1] 129880"
      ]
     },
     "metadata": {},
     "output_type": "display_data"
    }
   ],
   "source": [
    "ncol(clean)\n",
    "ncol(unclean)\n",
    "nrow(clean)\n",
    "nrow(unclean)"
   ]
  },
  {
   "cell_type": "code",
   "execution_count": 6,
   "id": "8a5ca360",
   "metadata": {},
   "outputs": [
    {
     "ename": "ERROR",
     "evalue": "Error in eval(expr, envir, enclos): object 'counter' not found\n",
     "output_type": "error",
     "traceback": [
      "Error in eval(expr, envir, enclos): object 'counter' not found\nTraceback:\n"
     ]
    }
   ],
   "source": [
    "clean_counter = 0 \n",
    "for( n in names(clean)){\n",
    "    \n",
    "    \n",
    "    clean_counter <- counter + sum(is.na(clean[,c(n)])) \n",
    "}\n",
    "print(clean_counter)\n",
    "unclean_counter = 0 \n",
    "for( n in names(unclean)){\n",
    "    \n",
    "    \n",
    "    unclean_counter <- unclean_counter + sum(is.na(unclean[,c(n)])) \n",
    "}\n",
    "print(unclean_counter)"
   ]
  },
  {
   "cell_type": "code",
   "execution_count": 7,
   "id": "5c24215a",
   "metadata": {},
   "outputs": [
    {
     "name": "stdout",
     "output_type": "stream",
     "text": [
      "[1] \"COL name  satisfactionv2  NA value : 0  max value : satisfied  min value : neutral or dissatisfied\"\n",
      "[1] \"COL name  Gender  NA value : 0  max value : Male  min value : Female\"\n",
      "[1] \"COL name  CustomerType  NA value : 0  max value : disloyal Customer  min value : Loyal Customer\"\n",
      "[1] \"COL name  Age  NA value : 0  max value : 85  min value : 7\"\n",
      "[1] \"COL name  TypeofTravel  NA value : 0  max value : Personal Travel  min value : Business travel\"\n",
      "[1] \"COL name  Class  NA value : 0  max value : Eco Plus  min value : Business\"\n",
      "[1] \"COL name  FlightDistance  NA value : 0  max value : 6951  min value : 50\"\n",
      "[1] \"COL name  Seatcomfort  NA value : 0  max value : 5  min value : 0\"\n",
      "[1] \"COL name  DepartureArrivaltimeconvenient  NA value : 0  max value : 5  min value : 0\"\n",
      "[1] \"COL name  Foodanddrink  NA value : 0  max value : 5  min value : 0\"\n",
      "[1] \"COL name  Gatelocation  NA value : 0  max value : 5  min value : 0\"\n",
      "[1] \"COL name  Inflightwifiservice  NA value : 0  max value : 5  min value : 0\"\n",
      "[1] \"COL name  Inflightentertainment  NA value : 0  max value : 5  min value : 0\"\n",
      "[1] \"COL name  Onlinesupport  NA value : 0  max value : 5  min value : 0\"\n",
      "[1] \"COL name  EaseofOnlinebooking  NA value : 0  max value : 5  min value : 0\"\n",
      "[1] \"COL name  Onboardservice  NA value : 0  max value : 5  min value : 0\"\n",
      "[1] \"COL name  Legroomservice  NA value : 0  max value : 5  min value : 0\"\n",
      "[1] \"COL name  Baggagehandling  NA value : 0  max value : 5  min value : 1\"\n",
      "[1] \"COL name  Checkinservice  NA value : 0  max value : 5  min value : 0\"\n",
      "[1] \"COL name  Cleanliness  NA value : 0  max value : 5  min value : 0\"\n",
      "[1] \"COL name  Onlineboarding  NA value : 0  max value : 5  min value : 0\"\n",
      "[1] \"COL name  DepartureDelayinMinutes  NA value : 0  max value : 1592  min value : 0\"\n",
      "[1] \"COL name  ArrivalDelayinMinutes  NA value : 393  max value : 1584  min value : 0\"\n"
     ]
    }
   ],
   "source": [
    "for( n in names(unclean)){\n",
    "    \n",
    "    na<-NULL\n",
    "    na <- sum(is.na(unclean[,c(n)]))\n",
    "    maxv <- max(unclean[,c(n)],na.rm=T) \n",
    "    minv <- min(unclean[,c(n)],na.rm=T)\n",
    "   \n",
    "    \n",
    "    print(paste('COL name ',n,' NA value :',na, ' max value :', maxv, ' min value :', minv))\n",
    "}\n",
    "\n"
   ]
  },
  {
   "cell_type": "code",
   "execution_count": 8,
   "id": "f9f865f5",
   "metadata": {},
   "outputs": [
    {
     "name": "stdout",
     "output_type": "stream",
     "text": [
      "[1] \"COL name  Gender  NA value : 0  max value : Male  min value : Female\"\n",
      "[1] \"COL name  CustomerType  NA value : 0  max value : disloyal Customer  min value : Loyal Customer\"\n",
      "[1] \"COL name  Age  NA value : 0  max value : 85  min value : 7\"\n",
      "[1] \"COL name  TypeofTravel  NA value : 0  max value : Personal Travel  min value : Business travel\"\n",
      "[1] \"COL name  Class  NA value : 0  max value : Eco Plus  min value : Business\"\n",
      "[1] \"COL name  FlightDistance  NA value : 0  max value : 4983  min value : 31\"\n",
      "[1] \"COL name  Inflightwifiservice  NA value : 0  max value : 5  min value : 0\"\n",
      "[1] \"COL name  DepartureArrivaltimeconvenient  NA value : 0  max value : 5  min value : 0\"\n",
      "[1] \"COL name  EaseofOnlinebooking  NA value : 0  max value : 5  min value : 0\"\n",
      "[1] \"COL name  Gatelocation  NA value : 0  max value : 5  min value : 0\"\n",
      "[1] \"COL name  Foodanddrink  NA value : 0  max value : 5  min value : 0\"\n",
      "[1] \"COL name  Onlineboarding  NA value : 0  max value : 5  min value : 0\"\n",
      "[1] \"COL name  Seatcomfort  NA value : 0  max value : 5  min value : 0\"\n",
      "[1] \"COL name  Inflightentertainment  NA value : 0  max value : 5  min value : 0\"\n",
      "[1] \"COL name  Onboardservice  NA value : 0  max value : 5  min value : 0\"\n",
      "[1] \"COL name  Legroomservice  NA value : 0  max value : 5  min value : 0\"\n",
      "[1] \"COL name  Baggagehandling  NA value : 0  max value : 5  min value : 1\"\n",
      "[1] \"COL name  Checkinservice  NA value : 0  max value : 5  min value : 0\"\n",
      "[1] \"COL name  Inflightservice  NA value : 0  max value : 5  min value : 0\"\n",
      "[1] \"COL name  Cleanliness  NA value : 0  max value : 5  min value : 0\"\n",
      "[1] \"COL name  DepartureDelayinMinutes  NA value : 0  max value : 1592  min value : 0\"\n",
      "[1] \"COL name  ArrivalDelayinMinutes  NA value : 393  max value : 1584  min value : 0\"\n",
      "[1] \"COL name  satisfaction  NA value : 0  max value : satisfied  min value : neutral or dissatisfied\"\n"
     ]
    }
   ],
   "source": [
    "for( n in names(clean)){\n",
    "    \n",
    "    na<-NULL\n",
    "    na <- sum(is.na(clean[,c(n)]))\n",
    "    maxv <- max(clean[,c(n)],na.rm=T) \n",
    "    minv <- min(clean[,c(n)],na.rm=T)\n",
    "   \n",
    "    \n",
    "    print(paste('COL name ',n,' NA value :',na, ' max value :', maxv, ' min value :', minv))\n",
    "}\n",
    "\n"
   ]
  },
  {
   "cell_type": "code",
   "execution_count": 9,
   "id": "b97a49e5",
   "metadata": {},
   "outputs": [
    {
     "ename": "ERROR",
     "evalue": "Error in eval(expr, envir, enclos): object 'training_data' not found\n",
     "output_type": "error",
     "traceback": [
      "Error in eval(expr, envir, enclos): object 'training_data' not found\nTraceback:\n"
     ]
    }
   ],
   "source": [
    "# Check for duplicate of ID \n",
    "training_data[duplicated(training_data[,\"id\"]),\"id\"]\n",
    "\n",
    "# No duplicate "
   ]
  },
  {
   "cell_type": "code",
   "execution_count": null,
   "id": "77b66a52",
   "metadata": {},
   "outputs": [],
   "source": []
  },
  {
   "cell_type": "code",
   "execution_count": null,
   "id": "e9461015",
   "metadata": {},
   "outputs": [],
   "source": []
  }
 ],
 "metadata": {
  "kernelspec": {
   "display_name": "R",
   "language": "R",
   "name": "ir"
  },
  "language_info": {
   "codemirror_mode": "r",
   "file_extension": ".r",
   "mimetype": "text/x-r-source",
   "name": "R",
   "pygments_lexer": "r",
   "version": "4.1.3"
  }
 },
 "nbformat": 4,
 "nbformat_minor": 5
}
